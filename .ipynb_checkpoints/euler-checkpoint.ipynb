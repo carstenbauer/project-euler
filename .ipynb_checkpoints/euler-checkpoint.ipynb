{
 "cells": [
  {
   "cell_type": "markdown",
   "id": "incoming-comparison",
   "metadata": {},
   "source": [
    "Problems: https://projecteuler.net/archives\n",
    "\n",
    "Expected results (no solutions): https://github.com/luckytoilet/projecteuler-solutions/blob/master/Solutions.md\n",
    "\n",
    "Some python solutions: https://euler.beerbaronbill.com/en/latest/index.html#my-solutions"
   ]
  },
  {
   "cell_type": "code",
   "execution_count": 1,
   "id": "golden-champion",
   "metadata": {},
   "outputs": [],
   "source": [
    "using BenchmarkToolsb"
   ]
  },
  {
   "cell_type": "markdown",
   "id": "composite-table",
   "metadata": {},
   "source": [
    "# Euler 1"
   ]
  },
  {
   "cell_type": "code",
   "execution_count": 400,
   "id": "fifty-balance",
   "metadata": {},
   "outputs": [
    {
     "data": {
      "text/plain": [
       "f (generic function with 5 methods)"
      ]
     },
     "execution_count": 400,
     "metadata": {},
     "output_type": "execute_result"
    }
   ],
   "source": [
    "f(N) = sum(i for i in 1:N-1 if iszero(rem(i,3)) || iszero(rem(i,5)))"
   ]
  },
  {
   "cell_type": "code",
   "execution_count": 401,
   "id": "statistical-german",
   "metadata": {},
   "outputs": [
    {
     "data": {
      "text/plain": [
       "23"
      ]
     },
     "execution_count": 401,
     "metadata": {},
     "output_type": "execute_result"
    }
   ],
   "source": [
    "f(10)"
   ]
  },
  {
   "cell_type": "code",
   "execution_count": 402,
   "id": "consolidated-vegetable",
   "metadata": {},
   "outputs": [
    {
     "data": {
      "text/plain": [
       "233168"
      ]
     },
     "execution_count": 402,
     "metadata": {},
     "output_type": "execute_result"
    }
   ],
   "source": [
    "f(1000)"
   ]
  },
  {
   "cell_type": "code",
   "execution_count": 403,
   "id": "final-reception",
   "metadata": {},
   "outputs": [
    {
     "name": "stdout",
     "output_type": "stream",
     "text": [
      "  1.675 μs (0 allocations: 0 bytes)\n"
     ]
    }
   ],
   "source": [
    "@btime f(1000);"
   ]
  },
  {
   "cell_type": "markdown",
   "id": "balanced-defensive",
   "metadata": {},
   "source": [
    "# Euler 2"
   ]
  },
  {
   "cell_type": "code",
   "execution_count": 407,
   "id": "white-carpet",
   "metadata": {},
   "outputs": [
    {
     "data": {
      "text/plain": [
       "f (generic function with 5 methods)"
      ]
     },
     "execution_count": 407,
     "metadata": {},
     "output_type": "execute_result"
    }
   ],
   "source": [
    "function f(maxval)\n",
    "    s = 2\n",
    "    f_prevprev = 1\n",
    "    f_prev = 2\n",
    "    f = 2\n",
    "    while f < maxval\n",
    "        f = f_prev + f_prevprev\n",
    "        f_prevprev, f_prev = f_prev, f\n",
    "        iseven(f) && (s+=f)\n",
    "    end\n",
    "    return s\n",
    "end"
   ]
  },
  {
   "cell_type": "code",
   "execution_count": 408,
   "id": "searching-potter",
   "metadata": {},
   "outputs": [
    {
     "data": {
      "text/plain": [
       "4613732"
      ]
     },
     "execution_count": 408,
     "metadata": {},
     "output_type": "execute_result"
    }
   ],
   "source": [
    "f(4_000_000)"
   ]
  },
  {
   "cell_type": "code",
   "execution_count": 409,
   "id": "young-poison",
   "metadata": {},
   "outputs": [
    {
     "name": "stdout",
     "output_type": "stream",
     "text": [
      "  16.647 ns (0 allocations: 0 bytes)\n"
     ]
    }
   ],
   "source": [
    "@btime f(4_000_000);"
   ]
  },
  {
   "cell_type": "markdown",
   "id": "cubic-mumbai",
   "metadata": {},
   "source": [
    "# Euler 3"
   ]
  },
  {
   "cell_type": "code",
   "execution_count": 56,
   "id": "atmospheric-longitude",
   "metadata": {},
   "outputs": [
    {
     "data": {
      "text/plain": [
       "13195"
      ]
     },
     "execution_count": 56,
     "metadata": {},
     "output_type": "execute_result"
    }
   ],
   "source": [
    "N = 13195"
   ]
  },
  {
   "cell_type": "code",
   "execution_count": 61,
   "id": "clear-combine",
   "metadata": {},
   "outputs": [],
   "source": [
    "using Primes"
   ]
  },
  {
   "cell_type": "code",
   "execution_count": 66,
   "id": "collective-cycle",
   "metadata": {},
   "outputs": [
    {
     "data": {
      "text/plain": [
       "4-element Vector{Int64}:\n",
       "  5\n",
       "  7\n",
       " 13\n",
       " 29"
      ]
     },
     "execution_count": 66,
     "metadata": {},
     "output_type": "execute_result"
    }
   ],
   "source": [
    "factor(Vector{Int}, N)"
   ]
  },
  {
   "cell_type": "code",
   "execution_count": 69,
   "id": "studied-removal",
   "metadata": {},
   "outputs": [
    {
     "data": {
      "text/plain": [
       "6857"
      ]
     },
     "execution_count": 69,
     "metadata": {},
     "output_type": "execute_result"
    }
   ],
   "source": [
    "factor(600851475143) |> keys |> maximum"
   ]
  },
  {
   "cell_type": "code",
   "execution_count": 71,
   "id": "better-while",
   "metadata": {},
   "outputs": [
    {
     "name": "stdout",
     "output_type": "stream",
     "text": [
      "  8.250 μs (4 allocations: 192 bytes)\n"
     ]
    }
   ],
   "source": [
    "@btime maximum(keys(factor(600851475143)));"
   ]
  },
  {
   "cell_type": "markdown",
   "id": "mineral-shape",
   "metadata": {},
   "source": [
    "# Euler 4"
   ]
  },
  {
   "cell_type": "code",
   "execution_count": 72,
   "id": "normal-salem",
   "metadata": {},
   "outputs": [
    {
     "data": {
      "text/plain": [
       "10000"
      ]
     },
     "execution_count": 72,
     "metadata": {},
     "output_type": "execute_result"
    }
   ],
   "source": [
    "100 * 100"
   ]
  },
  {
   "cell_type": "code",
   "execution_count": 73,
   "id": "saved-revision",
   "metadata": {},
   "outputs": [
    {
     "data": {
      "text/plain": [
       "998001"
      ]
     },
     "execution_count": 73,
     "metadata": {},
     "output_type": "execute_result"
    }
   ],
   "source": [
    "999 * 999"
   ]
  },
  {
   "cell_type": "code",
   "execution_count": 80,
   "id": "optional-member",
   "metadata": {},
   "outputs": [
    {
     "data": {
      "text/plain": [
       "ispalindrome (generic function with 1 method)"
      ]
     },
     "execution_count": 80,
     "metadata": {},
     "output_type": "execute_result"
    }
   ],
   "source": [
    "@inline ispalindrome(n) = digits(n) == reverse(digits(n))"
   ]
  },
  {
   "cell_type": "code",
   "execution_count": 85,
   "id": "occupied-gasoline",
   "metadata": {},
   "outputs": [
    {
     "data": {
      "text/plain": [
       "true"
      ]
     },
     "execution_count": 85,
     "metadata": {},
     "output_type": "execute_result"
    }
   ],
   "source": [
    "ispalindrome(9009)"
   ]
  },
  {
   "cell_type": "code",
   "execution_count": 86,
   "id": "ancient-invalid",
   "metadata": {},
   "outputs": [
    {
     "data": {
      "text/plain": [
       "false"
      ]
     },
     "execution_count": 86,
     "metadata": {},
     "output_type": "execute_result"
    }
   ],
   "source": [
    "ispalindrome(9109)"
   ]
  },
  {
   "cell_type": "code",
   "execution_count": 81,
   "id": "greek-czech",
   "metadata": {},
   "outputs": [
    {
     "data": {
      "text/plain": [
       "find_largest_palindrome (generic function with 1 method)"
      ]
     },
     "execution_count": 81,
     "metadata": {},
     "output_type": "execute_result"
    }
   ],
   "source": [
    "function find_largest_palindrome()\n",
    "    p = 0\n",
    "    for i in 100:999\n",
    "        for j in 100:999\n",
    "            n = i*j\n",
    "            if ispalindrome(n) && n > p\n",
    "                p = n\n",
    "            end\n",
    "        end\n",
    "    end\n",
    "    return p\n",
    "end"
   ]
  },
  {
   "cell_type": "code",
   "execution_count": 82,
   "id": "induced-mining",
   "metadata": {},
   "outputs": [
    {
     "data": {
      "text/plain": [
       "906609"
      ]
     },
     "execution_count": 82,
     "metadata": {},
     "output_type": "execute_result"
    }
   ],
   "source": [
    "find_largest_palindrome()"
   ]
  },
  {
   "cell_type": "markdown",
   "id": "ready-coordinate",
   "metadata": {},
   "source": [
    "# Euler 5"
   ]
  },
  {
   "cell_type": "code",
   "execution_count": 140,
   "id": "welcome-newport",
   "metadata": {},
   "outputs": [
    {
     "data": {
      "text/plain": [
       "f (generic function with 1 method)"
      ]
     },
     "execution_count": 140,
     "metadata": {},
     "output_type": "execute_result"
    }
   ],
   "source": [
    "function f()\n",
    "    for i in 1:1_000_000_000\n",
    "        alltrue = true\n",
    "        for j in 1:20\n",
    "            if rem(i, j) != 0\n",
    "                alltrue = false\n",
    "                break\n",
    "            end\n",
    "        end\n",
    "        alltrue && (return i)\n",
    "    end\n",
    "end"
   ]
  },
  {
   "cell_type": "code",
   "execution_count": 141,
   "id": "finished-visibility",
   "metadata": {},
   "outputs": [
    {
     "data": {
      "text/plain": [
       "232792560"
      ]
     },
     "execution_count": 141,
     "metadata": {},
     "output_type": "execute_result"
    }
   ],
   "source": [
    "f()"
   ]
  },
  {
   "cell_type": "code",
   "execution_count": 143,
   "id": "continuous-sodium",
   "metadata": {},
   "outputs": [
    {
     "data": {
      "text/plain": [
       "20-element Vector{Int64}:\n",
       " 0\n",
       " 0\n",
       " 0\n",
       " 0\n",
       " 0\n",
       " 0\n",
       " 0\n",
       " 0\n",
       " 0\n",
       " 0\n",
       " 0\n",
       " 0\n",
       " 0\n",
       " 0\n",
       " 0\n",
       " 0\n",
       " 0\n",
       " 0\n",
       " 0\n",
       " 0"
      ]
     },
     "execution_count": 143,
     "metadata": {},
     "output_type": "execute_result"
    }
   ],
   "source": [
    "232_792_560 .% (1:20)"
   ]
  },
  {
   "cell_type": "markdown",
   "id": "loose-register",
   "metadata": {},
   "source": [
    "# Euler 6"
   ]
  },
  {
   "cell_type": "code",
   "execution_count": 149,
   "id": "economic-worry",
   "metadata": {},
   "outputs": [
    {
     "data": {
      "text/plain": [
       "f (generic function with 2 methods)"
      ]
     },
     "execution_count": 149,
     "metadata": {},
     "output_type": "execute_result"
    }
   ],
   "source": [
    "f(N) = sum(1:N)^2 - sum(abs2,1:N)"
   ]
  },
  {
   "cell_type": "code",
   "execution_count": 150,
   "id": "downtown-machinery",
   "metadata": {},
   "outputs": [
    {
     "data": {
      "text/plain": [
       "2640"
      ]
     },
     "execution_count": 150,
     "metadata": {},
     "output_type": "execute_result"
    }
   ],
   "source": [
    "f(10)"
   ]
  },
  {
   "cell_type": "code",
   "execution_count": 151,
   "id": "removed-investigator",
   "metadata": {},
   "outputs": [
    {
     "data": {
      "text/plain": [
       "25164150"
      ]
     },
     "execution_count": 151,
     "metadata": {},
     "output_type": "execute_result"
    }
   ],
   "source": [
    "f(100)"
   ]
  },
  {
   "cell_type": "code",
   "execution_count": 152,
   "id": "connected-house",
   "metadata": {},
   "outputs": [
    {
     "name": "stdout",
     "output_type": "stream",
     "text": [
      "  6.339 ns (0 allocations: 0 bytes)\n"
     ]
    }
   ],
   "source": [
    "@btime f(100);"
   ]
  },
  {
   "cell_type": "code",
   "execution_count": 158,
   "id": "billion-conjunction",
   "metadata": {},
   "outputs": [
    {
     "data": {
      "text/plain": [
       "g (generic function with 1 method)"
      ]
     },
     "execution_count": 158,
     "metadata": {},
     "output_type": "execute_result"
    }
   ],
   "source": [
    "function g(N)\n",
    "    s, s_sq = 0, 0\n",
    "    for i in 1:N\n",
    "        s_sq += i^2\n",
    "        s += i\n",
    "    end\n",
    "    return s^2 - s_sq\n",
    "end"
   ]
  },
  {
   "cell_type": "code",
   "execution_count": 159,
   "id": "threaded-preservation",
   "metadata": {},
   "outputs": [
    {
     "name": "stdout",
     "output_type": "stream",
     "text": [
      "  1.661 ns (0 allocations: 0 bytes)\n"
     ]
    }
   ],
   "source": [
    "@btime g(100);"
   ]
  },
  {
   "cell_type": "markdown",
   "id": "administrative-sodium",
   "metadata": {},
   "source": [
    "# Euler 7"
   ]
  },
  {
   "cell_type": "code",
   "execution_count": 160,
   "id": "fluid-police",
   "metadata": {},
   "outputs": [],
   "source": [
    "using Primes"
   ]
  },
  {
   "cell_type": "code",
   "execution_count": 170,
   "id": "absolute-farming",
   "metadata": {},
   "outputs": [
    {
     "data": {
      "text/plain": [
       "104743"
      ]
     },
     "execution_count": 170,
     "metadata": {},
     "output_type": "execute_result"
    }
   ],
   "source": [
    "prime(10_001)"
   ]
  },
  {
   "cell_type": "markdown",
   "id": "organized-federation",
   "metadata": {},
   "source": [
    "# Euler 8"
   ]
  },
  {
   "cell_type": "code",
   "execution_count": 413,
   "id": "broad-sending",
   "metadata": {},
   "outputs": [],
   "source": [
    "x = big\"\"\"73167176531330624919225119674426574742355349194934\n",
    "96983520312774506326239578318016984801869478851843\n",
    "85861560789112949495459501737958331952853208805511\n",
    "12540698747158523863050715693290963295227443043557\n",
    "66896648950445244523161731856403098711121722383113\n",
    "62229893423380308135336276614282806444486645238749\n",
    "30358907296290491560440772390713810515859307960866\n",
    "70172427121883998797908792274921901699720888093776\n",
    "65727333001053367881220235421809751254540594752243\n",
    "52584907711670556013604839586446706324415722155397\n",
    "53697817977846174064955149290862569321978468622482\n",
    "83972241375657056057490261407972968652414535100474\n",
    "82166370484403199890008895243450658541227588666881\n",
    "16427171479924442928230863465674813919123162824586\n",
    "17866458359124566529476545682848912883142607690042\n",
    "24219022671055626321111109370544217506941658960408\n",
    "07198403850962455444362981230987879927244284909188\n",
    "84580156166097919133875499200524063689912560717606\n",
    "05886116467109405077541002256983155200055935729725\n",
    "71636269561882670428252483600823257530420752963450\"\"\";"
   ]
  },
  {
   "cell_type": "code",
   "execution_count": 414,
   "id": "asian-japanese",
   "metadata": {},
   "outputs": [
    {
     "data": {
      "text/plain": [
       "7316717653133062491922511967442657474235534919493496983520312774506326239578318016984801869478851843858615607891129494954595017379583319528532088055111254069874715852386305071569329096329522744304355766896648950445244523161731856403098711121722383113622298934233803081353362766142828064444866452387493035890729629049156044077239071381051585930796086670172427121883998797908792274921901699720888093776657273330010533678812202354218097512545405947522435258490771167055601360483958644670632441572215539753697817977846174064955149290862569321978468622482839722413756570560574902614079729686524145351004748216637048440319989000889524345065854122758866688116427171479924442928230863465674813919123162824586178664583591245665294765456828489128831426076900422421902267105562632111110937054421750694165896040807198403850962455444362981230987879927244284909188845801561660979191338754992005240636899125607176060588611646710940507754100225698315520005593572972571636269561882670428252483600823257530420752963450"
      ]
     },
     "execution_count": 414,
     "metadata": {},
     "output_type": "execute_result"
    }
   ],
   "source": [
    "x"
   ]
  },
  {
   "cell_type": "code",
   "execution_count": 415,
   "id": "happy-travel",
   "metadata": {},
   "outputs": [
    {
     "data": {
      "text/plain": [
       "1000-element Vector{Int64}:\n",
       " 7\n",
       " 3\n",
       " 1\n",
       " 6\n",
       " 7\n",
       " 1\n",
       " 7\n",
       " 6\n",
       " 5\n",
       " 3\n",
       " 1\n",
       " 3\n",
       " 3\n",
       " ⋮\n",
       " 4\n",
       " 2\n",
       " 0\n",
       " 7\n",
       " 5\n",
       " 2\n",
       " 9\n",
       " 6\n",
       " 3\n",
       " 4\n",
       " 5\n",
       " 0"
      ]
     },
     "execution_count": 415,
     "metadata": {},
     "output_type": "execute_result"
    }
   ],
   "source": [
    "d = reverse(digits(x))"
   ]
  },
  {
   "cell_type": "code",
   "execution_count": 416,
   "id": "rolled-feedback",
   "metadata": {},
   "outputs": [
    {
     "data": {
      "text/plain": [
       "f (generic function with 5 methods)"
      ]
     },
     "execution_count": 416,
     "metadata": {},
     "output_type": "execute_result"
    }
   ],
   "source": [
    "function f(d::AbstractVector{<:Integer}, adj::Integer)\n",
    "    pmax = 0 # product\n",
    "    smax = 0\n",
    "    N = length(d)\n",
    "    for s in 1:N-adj # s = start position of the block\n",
    "        neighs = @view d[s:s+adj-1]\n",
    "        @assert length(neighs) == adj\n",
    "        p = prod(neighs)\n",
    "        if p > pmax\n",
    "            pmax = p\n",
    "            smax = s\n",
    "        end\n",
    "    end\n",
    "    println(\"digits: \", d[smax:smax+adj-1])\n",
    "    println(\"product: \", pmax)\n",
    "    return nothing\n",
    "end"
   ]
  },
  {
   "cell_type": "code",
   "execution_count": 417,
   "id": "planned-burst",
   "metadata": {},
   "outputs": [
    {
     "name": "stdout",
     "output_type": "stream",
     "text": [
      "digits: [5, 5, 7, 6, 6, 8, 9, 6, 6, 4, 8, 9, 5]\n",
      "product: 23514624000\n"
     ]
    }
   ],
   "source": [
    "f(d, 13)"
   ]
  },
  {
   "cell_type": "markdown",
   "id": "modified-outline",
   "metadata": {},
   "source": [
    "# Euler 9"
   ]
  },
  {
   "cell_type": "code",
   "execution_count": 427,
   "id": "organizational-portugal",
   "metadata": {},
   "outputs": [
    {
     "data": {
      "text/plain": [
       "naive (generic function with 1 method)"
      ]
     },
     "execution_count": 427,
     "metadata": {},
     "output_type": "execute_result"
    }
   ],
   "source": [
    "function naive()\n",
    "    for a in 1:1000\n",
    "        for b in 1:1000\n",
    "            c = sqrt(a^2 + b^2)\n",
    "            isinteger(c) || continue\n",
    "            c = Int(c)\n",
    "            if a + b + c == 1000\n",
    "                return a*b*c, (a,b,c)\n",
    "            end\n",
    "        end\n",
    "    end\n",
    "    return nothing\n",
    "end"
   ]
  },
  {
   "cell_type": "code",
   "execution_count": 428,
   "id": "rubber-passion",
   "metadata": {},
   "outputs": [
    {
     "data": {
      "text/plain": [
       "(31875000, (200, 375, 425))"
      ]
     },
     "execution_count": 428,
     "metadata": {},
     "output_type": "execute_result"
    }
   ],
   "source": [
    "naive()"
   ]
  },
  {
   "cell_type": "code",
   "execution_count": 429,
   "id": "prospective-cathedral",
   "metadata": {},
   "outputs": [],
   "source": [
    "_, (a,b,c) = naive()\n",
    "@assert a^2 + b^2 == c^2\n",
    "@assert a + b + c == 1000"
   ]
  },
  {
   "cell_type": "code",
   "execution_count": 430,
   "id": "requested-cartridge",
   "metadata": {},
   "outputs": [
    {
     "name": "stdout",
     "output_type": "stream",
     "text": [
      "  282.351 μs (0 allocations: 0 bytes)\n"
     ]
    },
    {
     "data": {
      "text/plain": [
       "(31875000, (200, 375, 425))"
      ]
     },
     "execution_count": 430,
     "metadata": {},
     "output_type": "execute_result"
    }
   ],
   "source": [
    "@btime naive()"
   ]
  },
  {
   "cell_type": "markdown",
   "id": "bulgarian-example",
   "metadata": {},
   "source": [
    "# Euler 10"
   ]
  },
  {
   "cell_type": "code",
   "execution_count": 31,
   "id": "consecutive-earthquake",
   "metadata": {},
   "outputs": [],
   "source": [
    "using Primes"
   ]
  },
  {
   "cell_type": "code",
   "execution_count": 32,
   "id": "experienced-cartridge",
   "metadata": {},
   "outputs": [
    {
     "data": {
      "text/plain": [
       "142913828922"
      ]
     },
     "execution_count": 32,
     "metadata": {},
     "output_type": "execute_result"
    }
   ],
   "source": [
    "primes(2_000_000) |> sum"
   ]
  },
  {
   "cell_type": "code",
   "execution_count": 37,
   "id": "8bcd6c5f",
   "metadata": {},
   "outputs": [
    {
     "name": "stdout",
     "output_type": "stream",
     "text": [
      "  0.006591 seconds (7 allocations: 1.649 MiB)\n"
     ]
    },
    {
     "data": {
      "text/plain": [
       "142913828922"
      ]
     },
     "execution_count": 37,
     "metadata": {},
     "output_type": "execute_result"
    }
   ],
   "source": [
    "@time sum(primes(2_000_000))"
   ]
  },
  {
   "cell_type": "markdown",
   "id": "handmade-rhythm",
   "metadata": {},
   "source": [
    "# Euler 11"
   ]
  },
  {
   "cell_type": "code",
   "execution_count": 247,
   "id": "catholic-mother",
   "metadata": {},
   "outputs": [
    {
     "data": {
      "text/plain": [
       "20×20 Matrix{Int64}:\n",
       "  8   2  22  97  38  15   0  40   0  …   5   7  78  52  12  50  77  91   8\n",
       " 49  49  99  40  17  81  18  57  60     40  98  43  69  48   4  56  62   0\n",
       " 81  49  31  73  55  79  14  29  93     67  53  88  30   3  49  13  36  65\n",
       " 52  70  95  23   4  60  11  42  69     56   1  32  56  71  37   2  36  91\n",
       " 22  31  16  71  51  67  63  89  41     54  22  40  40  28  66  33  13  80\n",
       " 24  47  32  60  99   3  45   2  44  …  53  78  36  84  20  35  17  12  50\n",
       " 32  98  81  28  64  23  67  10  26     67  59  54  70  66  18  38  64  70\n",
       " 67  26  20  68   2  62  12  20  95     39  63   8  40  91  66  49  94  21\n",
       " 24  55  58   5  66  73  99  26  97     78  96  83  14  88  34  89  63  72\n",
       " 21  36  23   9  75   0  76  44  20     14   0  61  33  97  34  31  33  95\n",
       " 78  17  53  28  22  75  31  67  15  …  80   4  62  16  14   9  53  56  92\n",
       " 16  39   5  42  96  35  31  47  55     24   0  17  54  24  36  29  85  57\n",
       " 86  56   0  48  35  71  89   7   5     37  44  60  21  58  51  54  17  58\n",
       " 19  80  81  68   5  94  47  69  28     13  86  52  17  77   4  89  55  40\n",
       "  4  52   8  83  97  35  99  16   7     32  16  26  26  79  33  27  98  66\n",
       " 88  36  68  87  57  62  20  72   3  …  67  46  55  12  32  63  93  53  69\n",
       "  4  42  16  73  38  25  39  11  24     18   8  46  29  32  40  62  76  36\n",
       " 20  69  36  41  72  30  23  88  34     69  82  67  59  85  74   4  36  16\n",
       " 20  73  35  29  78  31  90   1  74     71  48  86  81  16  23  57   5  54\n",
       "  1  70  54  71  83  51  54  69  16     48  61  43  52   1  89  19  67  48"
      ]
     },
     "execution_count": 247,
     "metadata": {},
     "output_type": "execute_result"
    }
   ],
   "source": [
    "grid = [08 02 22 97 38 15 00 40 00 75 04 05 07 78 52 12 50 77 91 08\n",
    "49 49 99 40 17 81 18 57 60 87 17 40 98 43 69 48 04 56 62 00\n",
    "81 49 31 73 55 79 14 29 93 71 40 67 53 88 30 03 49 13 36 65\n",
    "52 70 95 23 04 60 11 42 69 24 68 56 01 32 56 71 37 02 36 91\n",
    "22 31 16 71 51 67 63 89 41 92 36 54 22 40 40 28 66 33 13 80\n",
    "24 47 32 60 99 03 45 02 44 75 33 53 78 36 84 20 35 17 12 50\n",
    "32 98 81 28 64 23 67 10 26 38 40 67 59 54 70 66 18 38 64 70\n",
    "67 26 20 68 02 62 12 20 95 63 94 39 63 08 40 91 66 49 94 21\n",
    "24 55 58 05 66 73 99 26 97 17 78 78 96 83 14 88 34 89 63 72\n",
    "21 36 23 09 75 00 76 44 20 45 35 14 00 61 33 97 34 31 33 95\n",
    "78 17 53 28 22 75 31 67 15 94 03 80 04 62 16 14 09 53 56 92\n",
    "16 39 05 42 96 35 31 47 55 58 88 24 00 17 54 24 36 29 85 57\n",
    "86 56 00 48 35 71 89 07 05 44 44 37 44 60 21 58 51 54 17 58\n",
    "19 80 81 68 05 94 47 69 28 73 92 13 86 52 17 77 04 89 55 40\n",
    "04 52 08 83 97 35 99 16 07 97 57 32 16 26 26 79 33 27 98 66\n",
    "88 36 68 87 57 62 20 72 03 46 33 67 46 55 12 32 63 93 53 69\n",
    "04 42 16 73 38 25 39 11 24 94 72 18 08 46 29 32 40 62 76 36\n",
    "20 69 36 41 72 30 23 88 34 62 99 69 82 67 59 85 74 04 36 16\n",
    "20 73 35 29 78 31 90 01 74 31 49 71 48 86 81 16 23 57 05 54\n",
    "01 70 54 71 83 51 54 69 16 92 33 48 61 43 52 01 89 19 67 48]"
   ]
  },
  {
   "cell_type": "code",
   "execution_count": 370,
   "id": "first-composer",
   "metadata": {},
   "outputs": [
    {
     "data": {
      "text/plain": [
       "f (generic function with 5 methods)"
      ]
     },
     "execution_count": 370,
     "metadata": {},
     "output_type": "execute_result"
    }
   ],
   "source": [
    "using LinearAlgebra\n",
    "\n",
    "function f(grid::AbstractMatrix{<:Integer}, adj::Integer)\n",
    "    pmax = 0 # product\n",
    "    rmax, cmax = 0, 0\n",
    "    Nr, Nc = size(grid)\n",
    "    for c in axes(grid, 2)\n",
    "        for r in axes(grid, 1)\n",
    "            \n",
    "            # right\n",
    "            if c + adj - 1 <= Nc\n",
    "                neighs = @view grid[r,c:c+adj-1]\n",
    "                p = prod(neighs)\n",
    "                if p > pmax\n",
    "                    pmax = p\n",
    "                    rmax, cmax = r, c\n",
    "                end\n",
    "            end\n",
    "            \n",
    "            # down\n",
    "            if r + adj - 1 <= Nr\n",
    "                neighs = @view grid[r:r+adj-1, c]\n",
    "                p = prod(neighs)\n",
    "                if p > pmax\n",
    "                    pmax = p\n",
    "                    rmax, cmax = r, c\n",
    "                end\n",
    "            end\n",
    "\n",
    "            # diag: right-down\n",
    "            if r + adj - 1 <= Nr && c + adj - 1 <= Nc\n",
    "                neighs_block = @view grid[r:r+adj-1, c:c+adj-1]\n",
    "                neighs = @view neighs_block[diagind(neighs_block)]\n",
    "                p = prod(neighs)\n",
    "                if p > pmax\n",
    "                    pmax = p\n",
    "                    rmax, cmax = r, c\n",
    "                end\n",
    "            end\n",
    "            \n",
    "            # diag: right-up\n",
    "            if 1 <= r - (adj - 1) <= Nr && c + adj - 1 <= Nc\n",
    "                neighs_block = @view grid[r:-1:r-(adj-1), c:c+adj-1]\n",
    "                neighs = @view neighs_block[diagind(neighs_block)]\n",
    "                p = prod(neighs)\n",
    "                if p > pmax\n",
    "                    pmax = p\n",
    "                    rmax, cmax = r, c\n",
    "                end\n",
    "            end\n",
    "        end\n",
    "    end\n",
    "    return pmax\n",
    "end"
   ]
  },
  {
   "cell_type": "code",
   "execution_count": 371,
   "id": "processed-carpet",
   "metadata": {},
   "outputs": [
    {
     "data": {
      "text/plain": [
       "5×5 Matrix{Int64}:\n",
       " 1  1  5  1  1\n",
       " 1  1  1  5  1\n",
       " 1  1  1  1  5\n",
       " 1  1  1  1  1\n",
       " 1  1  1  1  1"
      ]
     },
     "execution_count": 371,
     "metadata": {},
     "output_type": "execute_result"
    }
   ],
   "source": [
    "testgridru = [1 1 1 1 1\n",
    "              1 1 5 1 1\n",
    "              1 5 1 1 1\n",
    "              5 1 1 1 1\n",
    "              1 1 1 1 1]\n",
    "\n",
    "testgridrd = [1 1 5 1 1\n",
    "              1 1 1 5 1\n",
    "              1 1 1 1 5\n",
    "              1 1 1 1 1\n",
    "              1 1 1 1 1]"
   ]
  },
  {
   "cell_type": "code",
   "execution_count": 372,
   "id": "collected-quebec",
   "metadata": {},
   "outputs": [
    {
     "data": {
      "text/plain": [
       "true"
      ]
     },
     "execution_count": 372,
     "metadata": {},
     "output_type": "execute_result"
    }
   ],
   "source": [
    "f(testgridru, 3) == f(testgridrd, 3)"
   ]
  },
  {
   "cell_type": "code",
   "execution_count": 373,
   "id": "specialized-penguin",
   "metadata": {},
   "outputs": [
    {
     "data": {
      "text/plain": [
       "70600674"
      ]
     },
     "execution_count": 373,
     "metadata": {},
     "output_type": "execute_result"
    }
   ],
   "source": [
    "f(grid, 4)"
   ]
  },
  {
   "cell_type": "code",
   "execution_count": 374,
   "id": "stone-hebrew",
   "metadata": {},
   "outputs": [
    {
     "name": "stdout",
     "output_type": "stream",
     "text": [
      "  43.108 μs (0 allocations: 0 bytes)\n"
     ]
    }
   ],
   "source": [
    "@btime f($grid, 4);"
   ]
  },
  {
   "cell_type": "markdown",
   "id": "restricted-humor",
   "metadata": {},
   "source": [
    "# Euler 12"
   ]
  },
  {
   "cell_type": "code",
   "execution_count": 1,
   "id": "municipal-progress",
   "metadata": {},
   "outputs": [
    {
     "data": {
      "text/plain": [
       "count_divisors (generic function with 1 method)"
      ]
     },
     "execution_count": 1,
     "metadata": {},
     "output_type": "execute_result"
    }
   ],
   "source": [
    "@inline count_divisors(n) = count(i->rem(n,i)==0, i for i in 1:n)"
   ]
  },
  {
   "cell_type": "code",
   "execution_count": 2,
   "id": "involved-pipeline",
   "metadata": {},
   "outputs": [
    {
     "data": {
      "text/plain": [
       "6"
      ]
     },
     "execution_count": 2,
     "metadata": {},
     "output_type": "execute_result"
    }
   ],
   "source": [
    "count_divisors(28)"
   ]
  },
  {
   "cell_type": "code",
   "execution_count": 3,
   "id": "substantial-blake",
   "metadata": {},
   "outputs": [
    {
     "ename": "LoadError",
     "evalue": "LoadError: UndefVarError: @btime not defined\nin expression starting at In[3]:1",
     "output_type": "error",
     "traceback": [
      "LoadError: UndefVarError: @btime not defined\nin expression starting at In[3]:1",
      "",
      "Stacktrace:",
      " [1] top-level scope",
      "   @ :0",
      " [2] eval",
      "   @ ./boot.jl:360 [inlined]",
      " [3] include_string(mapexpr::typeof(REPL.softscope), mod::Module, code::String, filename::String)",
      "   @ Base ./loading.jl:1094"
     ]
    }
   ],
   "source": [
    "@btime count_divisors(10_000);"
   ]
  },
  {
   "cell_type": "code",
   "execution_count": 4,
   "id": "atomic-technician",
   "metadata": {},
   "outputs": [
    {
     "data": {
      "text/plain": [
       "triag (generic function with 1 method)"
      ]
     },
     "execution_count": 4,
     "metadata": {},
     "output_type": "execute_result"
    }
   ],
   "source": [
    "@inline triag(ith) = Int(ith * (ith + 1) * 0.5)"
   ]
  },
  {
   "cell_type": "code",
   "execution_count": 5,
   "id": "affecting-prince",
   "metadata": {},
   "outputs": [
    {
     "data": {
      "text/plain": [
       "f (generic function with 1 method)"
      ]
     },
     "execution_count": 5,
     "metadata": {},
     "output_type": "execute_result"
    }
   ],
   "source": [
    "function f()\n",
    "    triag_num = 0\n",
    "    for i in 1:1000\n",
    "        triag_num += i\n",
    "        count_divisors(triag_num) > 500 && (return triag_num)\n",
    "    end\n",
    "    return nothing\n",
    "end"
   ]
  },
  {
   "cell_type": "code",
   "execution_count": 6,
   "id": "recognized-cancer",
   "metadata": {},
   "outputs": [
    {
     "data": {
      "text/plain": [
       "g (generic function with 1 method)"
      ]
     },
     "execution_count": 6,
     "metadata": {},
     "output_type": "execute_result"
    }
   ],
   "source": [
    "function g()\n",
    "    for i in 1:1000\n",
    "        t = triag(i)\n",
    "        if count_divisors(t) > 500\n",
    "            return t\n",
    "        end\n",
    "    end\n",
    "    return nothing\n",
    "end"
   ]
  },
  {
   "cell_type": "code",
   "execution_count": 9,
   "id": "charged-china",
   "metadata": {},
   "outputs": [
    {
     "name": "stdout",
     "output_type": "stream",
     "text": [
      "  495.006 ms (0 allocations: 0 bytes)\n",
      "  484.769 ms (0 allocations: 0 bytes)\n"
     ]
    }
   ],
   "source": [
    "@btime f();\n",
    "@btime g();\n",
    "# too slow.... TODO: speed up count_divisors ANSWER: 76_576_500"
   ]
  },
  {
   "cell_type": "markdown",
   "id": "welsh-fraud",
   "metadata": {},
   "source": [
    "# Euler 13"
   ]
  },
  {
   "cell_type": "code",
   "execution_count": 15,
   "id": "imported-ethiopia",
   "metadata": {},
   "outputs": [
    {
     "data": {
      "text/plain": [
       "100-element Vector{BigInt}:\n",
       " 37107287533902102798797998220837590246510135740250\n",
       " 46376937677490009712648124896970078050417018260538\n",
       " 74324986199524741059474233309513058123726617309629\n",
       " 91942213363574161572522430563301811072406154908250\n",
       " 23067588207539346171171980310421047513778063246676\n",
       " 89261670696623633820136378418383684178734361726757\n",
       " 28112879812849979408065481931592621691275889832738\n",
       " 44274228917432520321923589422876796487670272189318\n",
       " 47451445736001306439091167216856844588711603153276\n",
       " 70386486105843025439939619828917593665686757934951\n",
       " 62176457141856560629502157223196586755079324193331\n",
       " 64906352462741904929101432445813822663347944758178\n",
       " 92575867718337217661963751590579239728245598838407\n",
       "                                                  ⋮\n",
       " 78639167021187492431995700641917969777599028300699\n",
       " 15368713711936614952811305876380278410754449733078\n",
       " 40789923115535562561142322423255033685442488917353\n",
       " 44889911501440648020369068063960672322193204149535\n",
       " 41503128880339536053299340368006977710650566631954\n",
       " 81234880673210146739058568557934581403627822703280\n",
       " 82616570773948327592232845941706525094512325230608\n",
       " 22918802058777319719839450180888072429661980811197\n",
       " 77158542502016545090413245809786882778948721859617\n",
       " 72107838435069186155435662884062257473692284509516\n",
       " 20849603980134001723930671666823555245252804609722\n",
       " 53503534226472524250874054075591789781264330331690"
      ]
     },
     "execution_count": 15,
     "metadata": {},
     "output_type": "execute_result"
    }
   ],
   "source": [
    "nums = [37107287533902102798797998220837590246510135740250\n",
    "46376937677490009712648124896970078050417018260538\n",
    "74324986199524741059474233309513058123726617309629\n",
    "91942213363574161572522430563301811072406154908250\n",
    "23067588207539346171171980310421047513778063246676\n",
    "89261670696623633820136378418383684178734361726757\n",
    "28112879812849979408065481931592621691275889832738\n",
    "44274228917432520321923589422876796487670272189318\n",
    "47451445736001306439091167216856844588711603153276\n",
    "70386486105843025439939619828917593665686757934951\n",
    "62176457141856560629502157223196586755079324193331\n",
    "64906352462741904929101432445813822663347944758178\n",
    "92575867718337217661963751590579239728245598838407\n",
    "58203565325359399008402633568948830189458628227828\n",
    "80181199384826282014278194139940567587151170094390\n",
    "35398664372827112653829987240784473053190104293586\n",
    "86515506006295864861532075273371959191420517255829\n",
    "71693888707715466499115593487603532921714970056938\n",
    "54370070576826684624621495650076471787294438377604\n",
    "53282654108756828443191190634694037855217779295145\n",
    "36123272525000296071075082563815656710885258350721\n",
    "45876576172410976447339110607218265236877223636045\n",
    "17423706905851860660448207621209813287860733969412\n",
    "81142660418086830619328460811191061556940512689692\n",
    "51934325451728388641918047049293215058642563049483\n",
    "62467221648435076201727918039944693004732956340691\n",
    "15732444386908125794514089057706229429197107928209\n",
    "55037687525678773091862540744969844508330393682126\n",
    "18336384825330154686196124348767681297534375946515\n",
    "80386287592878490201521685554828717201219257766954\n",
    "78182833757993103614740356856449095527097864797581\n",
    "16726320100436897842553539920931837441497806860984\n",
    "48403098129077791799088218795327364475675590848030\n",
    "87086987551392711854517078544161852424320693150332\n",
    "59959406895756536782107074926966537676326235447210\n",
    "69793950679652694742597709739166693763042633987085\n",
    "41052684708299085211399427365734116182760315001271\n",
    "65378607361501080857009149939512557028198746004375\n",
    "35829035317434717326932123578154982629742552737307\n",
    "94953759765105305946966067683156574377167401875275\n",
    "88902802571733229619176668713819931811048770190271\n",
    "25267680276078003013678680992525463401061632866526\n",
    "36270218540497705585629946580636237993140746255962\n",
    "24074486908231174977792365466257246923322810917141\n",
    "91430288197103288597806669760892938638285025333403\n",
    "34413065578016127815921815005561868836468420090470\n",
    "23053081172816430487623791969842487255036638784583\n",
    "11487696932154902810424020138335124462181441773470\n",
    "63783299490636259666498587618221225225512486764533\n",
    "67720186971698544312419572409913959008952310058822\n",
    "95548255300263520781532296796249481641953868218774\n",
    "76085327132285723110424803456124867697064507995236\n",
    "37774242535411291684276865538926205024910326572967\n",
    "23701913275725675285653248258265463092207058596522\n",
    "29798860272258331913126375147341994889534765745501\n",
    "18495701454879288984856827726077713721403798879715\n",
    "38298203783031473527721580348144513491373226651381\n",
    "34829543829199918180278916522431027392251122869539\n",
    "40957953066405232632538044100059654939159879593635\n",
    "29746152185502371307642255121183693803580388584903\n",
    "41698116222072977186158236678424689157993532961922\n",
    "62467957194401269043877107275048102390895523597457\n",
    "23189706772547915061505504953922979530901129967519\n",
    "86188088225875314529584099251203829009407770775672\n",
    "11306739708304724483816533873502340845647058077308\n",
    "82959174767140363198008187129011875491310547126581\n",
    "97623331044818386269515456334926366572897563400500\n",
    "42846280183517070527831839425882145521227251250327\n",
    "55121603546981200581762165212827652751691296897789\n",
    "32238195734329339946437501907836945765883352399886\n",
    "75506164965184775180738168837861091527357929701337\n",
    "62177842752192623401942399639168044983993173312731\n",
    "32924185707147349566916674687634660915035914677504\n",
    "99518671430235219628894890102423325116913619626622\n",
    "73267460800591547471830798392868535206946944540724\n",
    "76841822524674417161514036427982273348055556214818\n",
    "97142617910342598647204516893989422179826088076852\n",
    "87783646182799346313767754307809363333018982642090\n",
    "10848802521674670883215120185883543223812876952786\n",
    "71329612474782464538636993009049310363619763878039\n",
    "62184073572399794223406235393808339651327408011116\n",
    "66627891981488087797941876876144230030984490851411\n",
    "60661826293682836764744779239180335110989069790714\n",
    "85786944089552990653640447425576083659976645795096\n",
    "66024396409905389607120198219976047599490197230297\n",
    "64913982680032973156037120041377903785566085089252\n",
    "16730939319872750275468906903707539413042652315011\n",
    "94809377245048795150954100921645863754710598436791\n",
    "78639167021187492431995700641917969777599028300699\n",
    "15368713711936614952811305876380278410754449733078\n",
    "40789923115535562561142322423255033685442488917353\n",
    "44889911501440648020369068063960672322193204149535\n",
    "41503128880339536053299340368006977710650566631954\n",
    "81234880673210146739058568557934581403627822703280\n",
    "82616570773948327592232845941706525094512325230608\n",
    "22918802058777319719839450180888072429661980811197\n",
    "77158542502016545090413245809786882778948721859617\n",
    "72107838435069186155435662884062257473692284509516\n",
    "20849603980134001723930671666823555245252804609722\n",
    "53503534226472524250874054075591789781264330331690]"
   ]
  },
  {
   "cell_type": "code",
   "execution_count": 21,
   "id": "curious-inquiry",
   "metadata": {},
   "outputs": [
    {
     "data": {
      "text/plain": [
       "10-element Vector{Int64}:\n",
       " 5\n",
       " 5\n",
       " 3\n",
       " 7\n",
       " 3\n",
       " 7\n",
       " 6\n",
       " 2\n",
       " 3\n",
       " 0"
      ]
     },
     "execution_count": 21,
     "metadata": {},
     "output_type": "execute_result"
    }
   ],
   "source": [
    "reverse(digits(sum(nums)))[1:10]"
   ]
  },
  {
   "cell_type": "markdown",
   "id": "thorough-married",
   "metadata": {},
   "source": [
    "# Euler 14"
   ]
  },
  {
   "cell_type": "code",
   "execution_count": 5,
   "id": "closed-substance",
   "metadata": {},
   "outputs": [
    {
     "data": {
      "text/plain": [
       "apply_rule_int (generic function with 1 method)"
      ]
     },
     "execution_count": 5,
     "metadata": {},
     "output_type": "execute_result"
    }
   ],
   "source": [
    "apply_rule(n) = iseven(n) ? Int(n/2) : Int(3n + 1)\n",
    "apply_rule_int(n) = iseven(n) ? n ÷ 2 : 3n + 1"
   ]
  },
  {
   "cell_type": "code",
   "execution_count": 32,
   "id": "capable-australia",
   "metadata": {},
   "outputs": [
    {
     "name": "stdout",
     "output_type": "stream",
     "text": [
      "  5.286 ns (0 allocations: 0 bytes)\n"
     ]
    }
   ],
   "source": [
    "@btime apply_rule($Ref(40)[]);"
   ]
  },
  {
   "cell_type": "code",
   "execution_count": 33,
   "id": "injured-affiliate",
   "metadata": {},
   "outputs": [
    {
     "name": "stdout",
     "output_type": "stream",
     "text": [
      "  1.559 ns (0 allocations: 0 bytes)\n"
     ]
    }
   ],
   "source": [
    "@btime apply_rule_int($Ref(40)[]);"
   ]
  },
  {
   "cell_type": "code",
   "execution_count": 6,
   "id": "running-cream",
   "metadata": {},
   "outputs": [
    {
     "data": {
      "text/plain": [
       "chain (generic function with 1 method)"
      ]
     },
     "execution_count": 6,
     "metadata": {},
     "output_type": "execute_result"
    }
   ],
   "source": [
    "function chain(start)\n",
    "    n = start\n",
    "    series = Int[n]\n",
    "    for i in 1:9\n",
    "        n = apply_rule_int(n)\n",
    "        push!(series, n)\n",
    "    end\n",
    "    return series\n",
    "end"
   ]
  },
  {
   "cell_type": "code",
   "execution_count": 39,
   "id": "focal-recycling",
   "metadata": {},
   "outputs": [
    {
     "name": "stdout",
     "output_type": "stream",
     "text": [
      "[13, 40, 20, 10, 5, 16, 8, 4, 2, 1]"
     ]
    }
   ],
   "source": [
    "chain(13) |> print"
   ]
  },
  {
   "cell_type": "code",
   "execution_count": 7,
   "id": "assumed-county",
   "metadata": {},
   "outputs": [
    {
     "data": {
      "text/plain": [
       "chain_length_naive (generic function with 1 method)"
      ]
     },
     "execution_count": 7,
     "metadata": {},
     "output_type": "execute_result"
    }
   ],
   "source": [
    "function chain_length_naive(start)\n",
    "    n = start\n",
    "    c = 1\n",
    "    while n != 1\n",
    "        n = apply_rule_int(n)\n",
    "        c += 1\n",
    "    end\n",
    "    return c\n",
    "end"
   ]
  },
  {
   "cell_type": "code",
   "execution_count": 44,
   "id": "popular-overall",
   "metadata": {},
   "outputs": [
    {
     "name": "stdout",
     "output_type": "stream",
     "text": [
      "  8.826 ns (0 allocations: 0 bytes)\n"
     ]
    },
    {
     "data": {
      "text/plain": [
       "10"
      ]
     },
     "execution_count": 44,
     "metadata": {},
     "output_type": "execute_result"
    }
   ],
   "source": [
    "@btime chain_length_naive(13)"
   ]
  },
  {
   "cell_type": "code",
   "execution_count": 8,
   "id": "frequent-slave",
   "metadata": {},
   "outputs": [
    {
     "data": {
      "text/plain": [
       "find_longest_chain (generic function with 1 method)"
      ]
     },
     "execution_count": 8,
     "metadata": {},
     "output_type": "execute_result"
    }
   ],
   "source": [
    "function find_longest_chain(; N = 999_999)\n",
    "    slongest = 0\n",
    "    llongest = 0\n",
    "    for i in 1:N\n",
    "        l = chain_length_naive(i)\n",
    "        if l > llongest\n",
    "            slongest = i\n",
    "            llongest = l\n",
    "        end\n",
    "    end\n",
    "    return slongest, llongest\n",
    "end"
   ]
  },
  {
   "cell_type": "code",
   "execution_count": 61,
   "id": "biological-latex",
   "metadata": {},
   "outputs": [
    {
     "name": "stdout",
     "output_type": "stream",
     "text": [
      "  0.220667 seconds\n"
     ]
    },
    {
     "data": {
      "text/plain": [
       "(837799, 525)"
      ]
     },
     "execution_count": 61,
     "metadata": {},
     "output_type": "execute_result"
    }
   ],
   "source": [
    "@time find_longest_chain()"
   ]
  },
  {
   "cell_type": "markdown",
   "id": "perfect-waters",
   "metadata": {},
   "source": [
    "#### Memoisation"
   ]
  },
  {
   "cell_type": "code",
   "execution_count": 15,
   "id": "artistic-somerset",
   "metadata": {},
   "outputs": [],
   "source": [
    "struct ChainLengthCounter{D<:AbstractDict{Int, Int}}\n",
    "    d::D\n",
    "end\n",
    "\n",
    "ChainLengthCounter() = ChainLengthCounter(Dict{Int,Int}())\n",
    "\n",
    "@inline function (c::ChainLengthCounter)(start)\n",
    "    haskey(c.d, start) && (return c.d[start])\n",
    "    n = start\n",
    "    i = 1\n",
    "    while n != 1\n",
    "        n = apply_rule_int(n)\n",
    "        if haskey(c.d, n)\n",
    "            c.d[start] = c.d[n] + i\n",
    "            return c.d[start]\n",
    "        end\n",
    "        i += 1\n",
    "    end\n",
    "    c.d[start] = i\n",
    "    return c.d[start]\n",
    "end"
   ]
  },
  {
   "cell_type": "code",
   "execution_count": 16,
   "id": "endless-accused",
   "metadata": {},
   "outputs": [
    {
     "data": {
      "text/plain": [
       "ChainLengthCounter{Dict{Int64, Int64}}(Dict{Int64, Int64}())"
      ]
     },
     "execution_count": 16,
     "metadata": {},
     "output_type": "execute_result"
    }
   ],
   "source": [
    "c = ChainLengthCounter()"
   ]
  },
  {
   "cell_type": "code",
   "execution_count": 17,
   "id": "other-charge",
   "metadata": {},
   "outputs": [
    {
     "data": {
      "text/plain": [
       "Dict{Int64, Int64} with 3 entries:\n",
       "  13 => 10\n",
       "  2  => 2\n",
       "  1  => 1"
      ]
     },
     "execution_count": 17,
     "metadata": {},
     "output_type": "execute_result"
    }
   ],
   "source": [
    "c(1)\n",
    "c(2)\n",
    "c(13)\n",
    "c.d"
   ]
  },
  {
   "cell_type": "code",
   "execution_count": 18,
   "id": "touched-success",
   "metadata": {},
   "outputs": [
    {
     "data": {
      "text/plain": [
       "find_longest_chain_memoisation (generic function with 1 method)"
      ]
     },
     "execution_count": 18,
     "metadata": {},
     "output_type": "execute_result"
    }
   ],
   "source": [
    "function find_longest_chain_memoisation(; N = 999_999)\n",
    "    slongest = 0\n",
    "    llongest = 0\n",
    "    c = ChainLengthCounter()\n",
    "    sizehint!(c.d, N)\n",
    "    for i in 1:N\n",
    "        l = c(i)\n",
    "        if l > llongest\n",
    "            slongest = i\n",
    "            llongest = l\n",
    "        end\n",
    "    end\n",
    "    return slongest, llongest, c\n",
    "end"
   ]
  },
  {
   "cell_type": "code",
   "execution_count": 19,
   "id": "ideal-current",
   "metadata": {},
   "outputs": [
    {
     "data": {
      "text/plain": [
       "(837799, 525, ChainLengthCounter{Dict{Int64, Int64}}(Dict(395569 => 100, 371966 => 118, 437164 => 95, 596187 => 160, 620993 => 142, 939878 => 78, 656260 => 124, 600380 => 116, 718997 => 75, 737686 => 106…)))"
      ]
     },
     "execution_count": 19,
     "metadata": {},
     "output_type": "execute_result"
    }
   ],
   "source": [
    "_,_,c = find_longest_chain_memoisation()"
   ]
  },
  {
   "cell_type": "code",
   "execution_count": 136,
   "id": "accepting-opera",
   "metadata": {},
   "outputs": [
    {
     "name": "stdout",
     "output_type": "stream",
     "text": [
      "  217.726 ms (7 allocations: 34.00 MiB)\n",
      "  197.064 ms (0 allocations: 0 bytes)\n"
     ]
    },
    {
     "data": {
      "text/plain": [
       "(837799, 525)"
      ]
     },
     "execution_count": 136,
     "metadata": {},
     "output_type": "execute_result"
    }
   ],
   "source": [
    "@btime find_longest_chain_memoisation()\n",
    "@btime find_longest_chain()"
   ]
  },
  {
   "cell_type": "code",
   "execution_count": 151,
   "id": "adverse-gathering",
   "metadata": {},
   "outputs": [
    {
     "name": "stdout",
     "output_type": "stream",
     "text": [
      "  1.909 s (7 allocations: 136.00 MiB)\n",
      "  1.162 s (0 allocations: 0 bytes)\n"
     ]
    }
   ],
   "source": [
    "@btime find_longest_chain_memoisation(N = 5_000_000);\n",
    "@btime find_longest_chain(N = 5_000_000);"
   ]
  },
  {
   "cell_type": "markdown",
   "id": "hearing-layer",
   "metadata": {},
   "source": [
    "# Euler 15"
   ]
  },
  {
   "cell_type": "code",
   "execution_count": 58,
   "id": "environmental-drinking",
   "metadata": {},
   "outputs": [
    {
     "data": {
      "text/plain": [
       "Dict{Int64, Int64} with 2 entries:\n",
       "  2 => 20\n",
       "  1 => 10"
      ]
     },
     "execution_count": 58,
     "metadata": {},
     "output_type": "execute_result"
    }
   ],
   "source": [
    "d = Dict{Int,Int}(1 => 10, 2 => 20)"
   ]
  },
  {
   "cell_type": "code",
   "execution_count": 69,
   "id": "primary-intake",
   "metadata": {},
   "outputs": [
    {
     "data": {
      "text/plain": [
       "pathsearch (generic function with 3 methods)"
      ]
     },
     "execution_count": 69,
     "metadata": {},
     "output_type": "execute_result"
    }
   ],
   "source": [
    "function pathsearch(L, moves=(0, 0), solutions=Dict{Tuple{Int,Int}, Int}())\n",
    "    if moves[1] == L\n",
    "        return 1  # base case: no further branching possible\n",
    "    elseif moves[2] == L\n",
    "        return 1  # base case: no further branching possible\n",
    "    elseif moves in keys(solutions)\n",
    "        return solutions[moves]  # returned cached answer\n",
    "    else\n",
    "        # Branch down each possible path via recursion\n",
    "        answer0 = pathsearch(L, (moves[1] + 1, moves[2]), solutions)\n",
    "        solutions[(moves[1] + 1, moves[2])] = answer0\n",
    "        answer1 = pathsearch(L, (moves[1], moves[2] + 1), solutions)\n",
    "        solutions[(moves[1], moves[2] + 1)] = answer1\n",
    "        return answer0 + answer1\n",
    "    end\n",
    "end"
   ]
  },
  {
   "cell_type": "code",
   "execution_count": 70,
   "id": "mounted-liechtenstein",
   "metadata": {},
   "outputs": [
    {
     "data": {
      "text/plain": [
       "137846528820"
      ]
     },
     "execution_count": 70,
     "metadata": {},
     "output_type": "execute_result"
    }
   ],
   "source": [
    "expected_answer = 137846528820"
   ]
  },
  {
   "cell_type": "code",
   "execution_count": 71,
   "id": "circular-green",
   "metadata": {},
   "outputs": [
    {
     "data": {
      "text/plain": [
       "137846528820"
      ]
     },
     "execution_count": 71,
     "metadata": {},
     "output_type": "execute_result"
    }
   ],
   "source": [
    "pathsearch(20)"
   ]
  },
  {
   "cell_type": "code",
   "execution_count": 72,
   "id": "frank-level",
   "metadata": {},
   "outputs": [
    {
     "name": "stdout",
     "output_type": "stream",
     "text": [
      "  22.157 μs (13 allocations: 34.62 KiB)\n"
     ]
    }
   ],
   "source": [
    "@btime pathsearch(20);"
   ]
  },
  {
   "cell_type": "code",
   "execution_count": 83,
   "id": "separate-prophet",
   "metadata": {},
   "outputs": [
    {
     "data": {
      "text/plain": [
       "137846528820"
      ]
     },
     "execution_count": 83,
     "metadata": {},
     "output_type": "execute_result"
    }
   ],
   "source": [
    "function solution(n) # magic...\n",
    "    c = 1\n",
    "    for i in 1:n\n",
    "        c = c * (n + i) ÷ i\n",
    "    end\n",
    "    return c;\n",
    "end\n",
    "solution(20)"
   ]
  },
  {
   "cell_type": "code",
   "execution_count": 84,
   "id": "peaceful-stamp",
   "metadata": {},
   "outputs": [
    {
     "name": "stdout",
     "output_type": "stream",
     "text": [
      "  156.703 ns (0 allocations: 0 bytes)\n"
     ]
    },
    {
     "data": {
      "text/plain": [
       "137846528820"
      ]
     },
     "execution_count": 84,
     "metadata": {},
     "output_type": "execute_result"
    }
   ],
   "source": [
    "@btime solution(20)"
   ]
  },
  {
   "cell_type": "markdown",
   "id": "be538eee",
   "metadata": {},
   "source": [
    "# Euler 16"
   ]
  },
  {
   "cell_type": "code",
   "execution_count": 12,
   "id": "3c5bb16c",
   "metadata": {},
   "outputs": [
    {
     "data": {
      "text/plain": [
       "1366"
      ]
     },
     "execution_count": 12,
     "metadata": {},
     "output_type": "execute_result"
    }
   ],
   "source": [
    "big(2)^1000 |> digits |> sum"
   ]
  },
  {
   "cell_type": "markdown",
   "id": "795c242d",
   "metadata": {},
   "source": [
    "# Euler 17"
   ]
  },
  {
   "cell_type": "code",
   "execution_count": 41,
   "id": "ae6051f8",
   "metadata": {},
   "outputs": [],
   "source": [
    "using SpelledOut"
   ]
  },
  {
   "cell_type": "code",
   "execution_count": 42,
   "id": "84425040",
   "metadata": {},
   "outputs": [
    {
     "data": {
      "text/plain": [
       "\"one hundred and twelve\""
      ]
     },
     "execution_count": 42,
     "metadata": {},
     "output_type": "execute_result"
    }
   ],
   "source": [
    "spelled_out(112, lang = :en_UK)"
   ]
  },
  {
   "cell_type": "code",
   "execution_count": 43,
   "id": "b48b08a6",
   "metadata": {},
   "outputs": [
    {
     "data": {
      "text/plain": [
       "count_letters (generic function with 1 method)"
      ]
     },
     "execution_count": 43,
     "metadata": {},
     "output_type": "execute_result"
    }
   ],
   "source": [
    "count_letters(x::Number) = length(replace(replace(spelled_out(x, lang=:en_UK), \" \"=>\"\"), \"-\"=>\"\"))"
   ]
  },
  {
   "cell_type": "code",
   "execution_count": 44,
   "id": "be61223e",
   "metadata": {},
   "outputs": [
    {
     "data": {
      "text/plain": [
       "\u001b[32m\u001b[1mTest Passed\u001b[22m\u001b[39m"
      ]
     },
     "execution_count": 44,
     "metadata": {},
     "output_type": "execute_result"
    }
   ],
   "source": [
    "using Test\n",
    "@test count_letters(115) == 20\n",
    "@test count_letters(342) == 23"
   ]
  },
  {
   "cell_type": "code",
   "execution_count": 45,
   "id": "83e6bb9c",
   "metadata": {},
   "outputs": [
    {
     "data": {
      "text/plain": [
       "21124"
      ]
     },
     "execution_count": 45,
     "metadata": {},
     "output_type": "execute_result"
    }
   ],
   "source": [
    "sum(count_letters, 1:1000)"
   ]
  },
  {
   "cell_type": "markdown",
   "id": "42ed4dbf",
   "metadata": {},
   "source": [
    "# Euler 18"
   ]
  },
  {
   "cell_type": "code",
   "execution_count": 1,
   "id": "5816b655",
   "metadata": {},
   "outputs": [],
   "source": [
    "test_tree = [[3],\n",
    "        [7, 4],\n",
    "        [2, 4, 6],\n",
    "        [8, 5, 9, 3]];"
   ]
  },
  {
   "cell_type": "code",
   "execution_count": 2,
   "id": "824db602",
   "metadata": {},
   "outputs": [
    {
     "data": {
      "text/plain": [
       "walk (generic function with 3 methods)"
      ]
     },
     "execution_count": 2,
     "metadata": {},
     "output_type": "execute_result"
    }
   ],
   "source": [
    "# naive implementation / no dynamic programming.\n",
    "function walk(tree, row, col, acc=0)\n",
    "    acc += tree[row][col]\n",
    "    \n",
    "    if row == length(tree)\n",
    "        return acc\n",
    "    else\n",
    "        go_left = walk(tree, row+1, col, acc)\n",
    "        go_right = walk(tree, row+1, col+1, acc)\n",
    "        return max(go_left, go_right)\n",
    "    end\n",
    "end\n",
    "\n",
    "walk(tree) = walk(tree, 1, 1)"
   ]
  },
  {
   "cell_type": "code",
   "execution_count": 3,
   "id": "913947de",
   "metadata": {},
   "outputs": [
    {
     "data": {
      "text/plain": [
       "23"
      ]
     },
     "execution_count": 3,
     "metadata": {},
     "output_type": "execute_result"
    }
   ],
   "source": [
    "walk(test_tree)"
   ]
  },
  {
   "cell_type": "code",
   "execution_count": 4,
   "id": "41e01e0e",
   "metadata": {},
   "outputs": [
    {
     "name": "stdout",
     "output_type": "stream",
     "text": [
      "  42.338 ns (0 allocations: 0 bytes)\n"
     ]
    }
   ],
   "source": [
    "using BenchmarkTools\n",
    "@btime walk($test_tree);"
   ]
  },
  {
   "cell_type": "code",
   "execution_count": 46,
   "id": "3b4ccee6",
   "metadata": {},
   "outputs": [],
   "source": [
    "tree = [                            [75],\n",
    "                                  [95, 64],\n",
    "                                [17, 47, 82],\n",
    "                              [18, 35, 87, 10],\n",
    "                            [20,  4, 82, 47, 65],\n",
    "                          [19,  1, 23, 75,  3, 34],\n",
    "                        [88,  2, 77, 73,  7, 63, 67],\n",
    "                      [99, 65,  4, 28,  6, 16, 70, 92],\n",
    "                    [41, 41, 26, 56, 83, 40, 80, 70, 33],\n",
    "                  [41, 48, 72, 33, 47, 32, 37, 16, 94, 29],\n",
    "                [53, 71, 44, 65, 25, 43, 91, 52, 97, 51, 14],\n",
    "              [70, 11, 33, 28, 77, 73, 17, 78, 39, 68, 17, 57],\n",
    "            [91, 71, 52, 38, 17, 14, 91, 43, 58, 50, 27, 29, 48],\n",
    "          [63, 66,  4, 68, 89, 53, 67, 30, 73, 16, 69, 87, 40, 31],\n",
    "        [ 4, 62, 98, 27, 23,  9, 70, 98, 73, 93, 38, 53, 60,  4, 23]];"
   ]
  },
  {
   "cell_type": "code",
   "execution_count": 6,
   "id": "44a4450d",
   "metadata": {},
   "outputs": [
    {
     "name": "stdout",
     "output_type": "stream",
     "text": [
      "  92.916 μs (0 allocations: 0 bytes)\n"
     ]
    },
    {
     "data": {
      "text/plain": [
       "1074"
      ]
     },
     "execution_count": 6,
     "metadata": {},
     "output_type": "execute_result"
    }
   ],
   "source": [
    "@btime walk($tree)"
   ]
  },
  {
   "cell_type": "markdown",
   "id": "229d5959",
   "metadata": {},
   "source": [
    "### Euler 67 (same problem, much larger tree)"
   ]
  },
  {
   "cell_type": "code",
   "execution_count": 7,
   "id": "67855ce1",
   "metadata": {},
   "outputs": [],
   "source": [
    "using DelimitedFiles"
   ]
  },
  {
   "cell_type": "code",
   "execution_count": 44,
   "id": "e2efebb5",
   "metadata": {},
   "outputs": [
    {
     "data": {
      "text/plain": [
       "100×100 Matrix{Any}:\n",
       " 59    \"\"    \"\"    \"\"    \"\"    \"\"  …    \"\"    \"\"    \"\"    \"\"    \"\"    \"\"\n",
       " 73  41      \"\"    \"\"    \"\"    \"\"       \"\"    \"\"    \"\"    \"\"    \"\"    \"\"\n",
       " 52  40     9      \"\"    \"\"    \"\"       \"\"    \"\"    \"\"    \"\"    \"\"    \"\"\n",
       " 26  53     6    34      \"\"    \"\"       \"\"    \"\"    \"\"    \"\"    \"\"    \"\"\n",
       " 10  51    87    86    81      \"\"       \"\"    \"\"    \"\"    \"\"    \"\"    \"\"\n",
       " 61  95    66    57    25    68    …    \"\"    \"\"    \"\"    \"\"    \"\"    \"\"\n",
       " 90  81    80    38    92    67         \"\"    \"\"    \"\"    \"\"    \"\"    \"\"\n",
       " 30  28    51    76    81    18         \"\"    \"\"    \"\"    \"\"    \"\"    \"\"\n",
       " 84  14    95    87    62    81         \"\"    \"\"    \"\"    \"\"    \"\"    \"\"\n",
       " 21  46    71    58     2    79         \"\"    \"\"    \"\"    \"\"    \"\"    \"\"\n",
       " 56  34    35    53    78    31    …    \"\"    \"\"    \"\"    \"\"    \"\"    \"\"\n",
       " 78  53     4    21    84    93         \"\"    \"\"    \"\"    \"\"    \"\"    \"\"\n",
       " 45   3    81    79     5    18         \"\"    \"\"    \"\"    \"\"    \"\"    \"\"\n",
       "  ⋮                           ⋮    ⋱         ⋮                      \n",
       " 63  40    78     8    52     9         \"\"    \"\"    \"\"    \"\"    \"\"    \"\"\n",
       " 12  36    56    88    13    96         \"\"    \"\"    \"\"    \"\"    \"\"    \"\"\n",
       " 30  18    22    20    42    96    …    \"\"    \"\"    \"\"    \"\"    \"\"    \"\"\n",
       " 51  96    39    65    46    71         \"\"    \"\"    \"\"    \"\"    \"\"    \"\"\n",
       " 44  61    89    59     4    49         \"\"    \"\"    \"\"    \"\"    \"\"    \"\"\n",
       " 65  37    19    97    26    17         \"\"    \"\"    \"\"    \"\"    \"\"    \"\"\n",
       " 73  81    14    13    17    20       20      \"\"    \"\"    \"\"    \"\"    \"\"\n",
       " 17  25    21    11    72    93    …  79    39      \"\"    \"\"    \"\"    \"\"\n",
       " 60  85    59    39    60     7       12    98     7      \"\"    \"\"    \"\"\n",
       " 64  66    84    24    18    16       34    53    71    15      \"\"    \"\"\n",
       " 30  11    85    31    34    71       15    77    61    67    68      \"\"\n",
       " 23  33    44    81    80    92       41    26    15    59    63    35"
      ]
     },
     "execution_count": 44,
     "metadata": {},
     "output_type": "execute_result"
    }
   ],
   "source": [
    "M = readdlm(\"p067_triangle.txt\")"
   ]
  },
  {
   "cell_type": "code",
   "execution_count": 45,
   "id": "acf79f17",
   "metadata": {},
   "outputs": [
    {
     "data": {
      "text/plain": [
       "100-element Vector{Vector{Int64}}:\n",
       " [59]\n",
       " [73, 41]\n",
       " [52, 40, 9]\n",
       " [26, 53, 6, 34]\n",
       " [10, 51, 87, 86, 81]\n",
       " [61, 95, 66, 57, 25, 68]\n",
       " [90, 81, 80, 38, 92, 67, 73]\n",
       " [30, 28, 51, 76, 81, 18, 75, 44]\n",
       " [84, 14, 95, 87, 62, 81, 17, 78, 58]\n",
       " [21, 46, 71, 58, 2, 79, 62, 39, 31, 9]\n",
       " [56, 34, 35, 53, 78, 31, 81, 18, 90, 93, 15]\n",
       " [78, 53, 4, 21, 84, 93, 32, 13, 97, 11, 37, 51]\n",
       " [45, 3, 81, 79, 5, 18, 78, 86, 13, 30, 63, 99, 95]\n",
       " ⋮\n",
       " [63, 40, 78, 8, 52, 9, 90, 41, 70, 28  …  25, 93, 83, 45, 11, 34, 94, 44, 39, 92]\n",
       " [12, 36, 56, 88, 13, 96, 16, 12, 55, 54  …  1, 54, 54, 44, 96, 93, 83, 36, 4, 45]\n",
       " [30, 18, 22, 20, 42, 96, 65, 79, 17, 41  …  23, 79, 28, 71, 42, 20, 37, 82, 31, 23]\n",
       " [51, 96, 39, 65, 46, 71, 56, 13, 29, 68  …  49, 1, 44, 63, 28, 60, 7, 78, 95, 40]\n",
       " [44, 61, 89, 59, 4, 49, 51, 27, 69, 71  …  85, 80, 57, 7, 11, 62, 66, 47, 22, 67]\n",
       " [65, 37, 19, 97, 26, 17, 16, 24, 24, 17  …  12, 1, 31, 68, 17, 59, 63, 76, 7, 77]\n",
       " [73, 81, 14, 13, 17, 20, 11, 9, 1, 83  …  2, 71, 7, 63, 22, 5, 52, 19, 8, 20]\n",
       " [17, 25, 21, 11, 72, 93, 33, 49, 64, 23  …  54, 80, 89, 91, 14, 5, 33, 36, 79, 39]\n",
       " [60, 85, 59, 39, 60, 7, 57, 76, 77, 92  …  72, 44, 25, 14, 1, 48, 74, 12, 98, 7]\n",
       " [64, 66, 84, 24, 18, 16, 27, 48, 20, 14  …  73, 95, 78, 45, 92, 27, 34, 53, 71, 15]\n",
       " [30, 11, 85, 31, 34, 71, 13, 48, 5, 14  …  70, 52, 48, 79, 94, 15, 77, 61, 67, 68]\n",
       " [23, 33, 44, 81, 80, 92, 93, 75, 94, 88  …  29, 6, 25, 61, 41, 26, 15, 59, 63, 35]"
      ]
     },
     "execution_count": 45,
     "metadata": {},
     "output_type": "execute_result"
    }
   ],
   "source": [
    "big_tree = [[x for x in row if !isempty(x)] for row in eachrow(M)]"
   ]
  },
  {
   "cell_type": "code",
   "execution_count": null,
   "id": "9efabd78",
   "metadata": {},
   "outputs": [],
   "source": [
    "# @time walk(tree) # takes forever / hangs ..."
   ]
  },
  {
   "cell_type": "markdown",
   "id": "976a592c",
   "metadata": {},
   "source": [
    "#### dynamic programming"
   ]
  },
  {
   "cell_type": "code",
   "execution_count": 132,
   "id": "f9ae8799",
   "metadata": {},
   "outputs": [
    {
     "data": {
      "text/plain": [
       "backwards_walk (generic function with 3 methods)"
      ]
     },
     "execution_count": 132,
     "metadata": {},
     "output_type": "execute_result"
    }
   ],
   "source": [
    "function backwards_walk(tree, row, memory) \n",
    "    row == 1 && (return memory[1][1])\n",
    "    \n",
    "    for col in 1:length(tree[row])-1\n",
    "        lchild = memory[row][col]\n",
    "        rchild = memory[row][col+1]\n",
    "        \n",
    "        memory[row-1][col] = max(lchild, rchild) + tree[row-1][col]\n",
    "    end\n",
    "    return backwards_walk(tree, row-1, memory)\n",
    "end\n",
    "\n",
    "function backwards_walk(tree)\n",
    "    lastrow = length(tree)\n",
    "    memory = deepcopy(tree)\n",
    "    backwards_walk(tree, lastrow, memory)\n",
    "end"
   ]
  },
  {
   "cell_type": "code",
   "execution_count": 133,
   "id": "37ea72c8",
   "metadata": {},
   "outputs": [
    {
     "data": {
      "text/plain": [
       "23"
      ]
     },
     "execution_count": 133,
     "metadata": {},
     "output_type": "execute_result"
    }
   ],
   "source": [
    "backwards_walk(test_tree)"
   ]
  },
  {
   "cell_type": "code",
   "execution_count": 134,
   "id": "549b073d",
   "metadata": {},
   "outputs": [
    {
     "data": {
      "text/plain": [
       "\u001b[32m\u001b[1mTest Passed\u001b[22m\u001b[39m"
      ]
     },
     "execution_count": 134,
     "metadata": {},
     "output_type": "execute_result"
    }
   ],
   "source": [
    "using Test\n",
    "@test backwards_walk(test_tree) == 23"
   ]
  },
  {
   "cell_type": "code",
   "execution_count": 135,
   "id": "36ab8996",
   "metadata": {},
   "outputs": [
    {
     "name": "stdout",
     "output_type": "stream",
     "text": [
      "  470.790 ns (7 allocations: 896 bytes)\n",
      "  43.356 ns (0 allocations: 0 bytes)\n"
     ]
    }
   ],
   "source": [
    "@btime backwards_walk($test_tree);\n",
    "@btime walk($test_tree);"
   ]
  },
  {
   "cell_type": "code",
   "execution_count": 136,
   "id": "a078ec71",
   "metadata": {},
   "outputs": [
    {
     "name": "stdout",
     "output_type": "stream",
     "text": [
      "  1.927 μs (18 allocations: 2.73 KiB)\n",
      "  90.690 μs (0 allocations: 0 bytes)\n"
     ]
    }
   ],
   "source": [
    "@btime backwards_walk($tree);\n",
    "@btime walk($tree);"
   ]
  },
  {
   "cell_type": "code",
   "execution_count": 137,
   "id": "205b0e4b",
   "metadata": {},
   "outputs": [
    {
     "name": "stdout",
     "output_type": "stream",
     "text": [
      "  28.882 μs (107 allocations: 58.30 KiB)\n"
     ]
    },
    {
     "data": {
      "text/plain": [
       "7273"
      ]
     },
     "execution_count": 137,
     "metadata": {},
     "output_type": "execute_result"
    }
   ],
   "source": [
    "@btime backwards_walk($big_tree)"
   ]
  },
  {
   "cell_type": "markdown",
   "id": "166bc8f2",
   "metadata": {},
   "source": [
    "# Euler 19"
   ]
  },
  {
   "cell_type": "code",
   "execution_count": 48,
   "id": "f8e8a326",
   "metadata": {},
   "outputs": [],
   "source": [
    "using Dates"
   ]
  },
  {
   "cell_type": "code",
   "execution_count": 67,
   "id": "6786e805",
   "metadata": {},
   "outputs": [
    {
     "data": {
      "text/plain": [
       "Date(\"1901-01-01\"):Month(1):Date(\"2000-12-01\")"
      ]
     },
     "execution_count": 67,
     "metadata": {},
     "output_type": "execute_result"
    }
   ],
   "source": [
    "all_first_of_month = Dates.Date(1901,1,1):Month(1):Dates.Date(2000,12,31)"
   ]
  },
  {
   "cell_type": "code",
   "execution_count": 68,
   "id": "8e7c59b3",
   "metadata": {},
   "outputs": [
    {
     "data": {
      "text/plain": [
       "\u001b[32m\u001b[1mTest Passed\u001b[22m\u001b[39m"
      ]
     },
     "execution_count": 68,
     "metadata": {},
     "output_type": "execute_result"
    }
   ],
   "source": [
    "using Test\n",
    "@test firstdayofmonth.(dr) == all_first_of_month"
   ]
  },
  {
   "cell_type": "code",
   "execution_count": 70,
   "id": "644f1921",
   "metadata": {},
   "outputs": [
    {
     "data": {
      "text/plain": [
       "171"
      ]
     },
     "execution_count": 70,
     "metadata": {},
     "output_type": "execute_result"
    }
   ],
   "source": [
    "count(d->dayofweek(d)==Dates.Sunday, all_first_of_month)"
   ]
  },
  {
   "cell_type": "markdown",
   "id": "d3771dfa",
   "metadata": {},
   "source": [
    "# Euler 20"
   ]
  },
  {
   "cell_type": "code",
   "execution_count": 74,
   "id": "afccebd6",
   "metadata": {},
   "outputs": [
    {
     "data": {
      "text/plain": [
       "648"
      ]
     },
     "execution_count": 74,
     "metadata": {},
     "output_type": "execute_result"
    }
   ],
   "source": [
    "factorial(big(100)) |> digits |> sum"
   ]
  },
  {
   "cell_type": "markdown",
   "id": "82dc819e",
   "metadata": {},
   "source": [
    "# Euler 21"
   ]
  },
  {
   "cell_type": "code",
   "execution_count": 83,
   "id": "d5140224",
   "metadata": {},
   "outputs": [
    {
     "data": {
      "text/plain": [
       "d (generic function with 1 method)"
      ]
     },
     "execution_count": 83,
     "metadata": {},
     "output_type": "execute_result"
    }
   ],
   "source": [
    "d(n) = sum(i for i in 1:n-1 if rem(n,i)==0)"
   ]
  },
  {
   "cell_type": "code",
   "execution_count": 85,
   "id": "7e4aad66",
   "metadata": {},
   "outputs": [
    {
     "data": {
      "text/plain": [
       "\u001b[32m\u001b[1mTest Passed\u001b[22m\u001b[39m"
      ]
     },
     "execution_count": 85,
     "metadata": {},
     "output_type": "execute_result"
    }
   ],
   "source": [
    "using Test\n",
    "@test d(220) == 284\n",
    "@test d(284) == 220"
   ]
  },
  {
   "cell_type": "code",
   "execution_count": 116,
   "id": "834d73b4",
   "metadata": {},
   "outputs": [
    {
     "data": {
      "text/plain": [
       "naive (generic function with 1 method)"
      ]
     },
     "execution_count": 116,
     "metadata": {},
     "output_type": "execute_result"
    }
   ],
   "source": [
    "function naive(N)\n",
    "    s = 0\n",
    "    for i in 1:N\n",
    "        partner = d(i)\n",
    "        if d(partner) == i && partner != i\n",
    "            s += i\n",
    "        end\n",
    "    end\n",
    "    return s\n",
    "end"
   ]
  },
  {
   "cell_type": "code",
   "execution_count": 117,
   "id": "1abea4a7",
   "metadata": {},
   "outputs": [
    {
     "data": {
      "text/plain": [
       "31626"
      ]
     },
     "execution_count": 117,
     "metadata": {},
     "output_type": "execute_result"
    }
   ],
   "source": [
    "naive(10_000)"
   ]
  },
  {
   "cell_type": "code",
   "execution_count": 118,
   "id": "1792d0e0",
   "metadata": {},
   "outputs": [
    {
     "name": "stdout",
     "output_type": "stream",
     "text": [
      "  235.555 ms (0 allocations: 0 bytes)\n"
     ]
    }
   ],
   "source": [
    "@btime naive(10_000);"
   ]
  },
  {
   "cell_type": "markdown",
   "id": "1edfb2c4",
   "metadata": {},
   "source": [
    "# Euler 22"
   ]
  },
  {
   "cell_type": "code",
   "execution_count": 149,
   "id": "24bd5ef5",
   "metadata": {},
   "outputs": [],
   "source": [
    "using DelimitedFiles"
   ]
  },
  {
   "cell_type": "code",
   "execution_count": 167,
   "id": "1055afdc",
   "metadata": {},
   "outputs": [],
   "source": [
    "names = vec(readdlm(\"p022_names.txt\", ',', String));"
   ]
  },
  {
   "cell_type": "code",
   "execution_count": 168,
   "id": "200ef875",
   "metadata": {},
   "outputs": [
    {
     "data": {
      "text/plain": [
       "5163-element Vector{String}:\n",
       " \"AARON\"\n",
       " \"ABBEY\"\n",
       " \"ABBIE\"\n",
       " \"ABBY\"\n",
       " \"ABDUL\"\n",
       " \"ABE\"\n",
       " \"ABEL\"\n",
       " \"ABIGAIL\"\n",
       " \"ABRAHAM\"\n",
       " \"ABRAM\"\n",
       " \"ADA\"\n",
       " \"ADAH\"\n",
       " \"ADALBERTO\"\n",
       " ⋮\n",
       " \"ZITA\"\n",
       " \"ZOE\"\n",
       " \"ZOFIA\"\n",
       " \"ZOILA\"\n",
       " \"ZOLA\"\n",
       " \"ZONA\"\n",
       " \"ZONIA\"\n",
       " \"ZORA\"\n",
       " \"ZORAIDA\"\n",
       " \"ZULA\"\n",
       " \"ZULEMA\"\n",
       " \"ZULMA\""
      ]
     },
     "execution_count": 168,
     "metadata": {},
     "output_type": "execute_result"
    }
   ],
   "source": [
    "names_sorted = sort(names)"
   ]
  },
  {
   "cell_type": "code",
   "execution_count": 184,
   "id": "c9face2e",
   "metadata": {},
   "outputs": [
    {
     "data": {
      "text/plain": [
       "Dict{Char, Int64} with 26 entries:\n",
       "  'E' => 5\n",
       "  'Z' => 26\n",
       "  'X' => 24\n",
       "  'B' => 2\n",
       "  'C' => 3\n",
       "  'D' => 4\n",
       "  'A' => 1\n",
       "  'R' => 18\n",
       "  'G' => 7\n",
       "  'F' => 6\n",
       "  'N' => 14\n",
       "  'M' => 13\n",
       "  'K' => 11\n",
       "  'J' => 10\n",
       "  'O' => 15\n",
       "  'I' => 9\n",
       "  'P' => 16\n",
       "  'H' => 8\n",
       "  'Q' => 17\n",
       "  'W' => 23\n",
       "  'S' => 19\n",
       "  'T' => 20\n",
       "  'U' => 21\n",
       "  'L' => 12\n",
       "  'Y' => 25\n",
       "  'V' => 22"
      ]
     },
     "execution_count": 184,
     "metadata": {},
     "output_type": "execute_result"
    }
   ],
   "source": [
    "const char2num = Dict{Char,Int}(Pair.('A':'Z', 1:26))"
   ]
  },
  {
   "cell_type": "code",
   "execution_count": 188,
   "id": "ef5dc059",
   "metadata": {},
   "outputs": [
    {
     "data": {
      "text/plain": [
       "worth (generic function with 1 method)"
      ]
     },
     "execution_count": 188,
     "metadata": {},
     "output_type": "execute_result"
    }
   ],
   "source": [
    "worth(name::String) = sum(char2num[c] for c in name)"
   ]
  },
  {
   "cell_type": "code",
   "execution_count": 194,
   "id": "887c193f",
   "metadata": {},
   "outputs": [
    {
     "data": {
      "text/plain": [
       "\u001b[32m\u001b[1mTest Passed\u001b[22m\u001b[39m"
      ]
     },
     "execution_count": 194,
     "metadata": {},
     "output_type": "execute_result"
    }
   ],
   "source": [
    "@test worth(\"COLIN\") == 53"
   ]
  },
  {
   "cell_type": "code",
   "execution_count": 190,
   "id": "1c4fdf1f",
   "metadata": {},
   "outputs": [
    {
     "data": {
      "text/plain": [
       "score (generic function with 1 method)"
      ]
     },
     "execution_count": 190,
     "metadata": {},
     "output_type": "execute_result"
    }
   ],
   "source": [
    "function score(names)\n",
    "    s = 0\n",
    "    for (i,name) in enumerate(names)\n",
    "        s += i * worth(name)\n",
    "    end\n",
    "    return s\n",
    "end"
   ]
  },
  {
   "cell_type": "code",
   "execution_count": 191,
   "id": "44f29507",
   "metadata": {},
   "outputs": [
    {
     "data": {
      "text/plain": [
       "871198282"
      ]
     },
     "execution_count": 191,
     "metadata": {},
     "output_type": "execute_result"
    }
   ],
   "source": [
    "score(names_sorted)"
   ]
  },
  {
   "cell_type": "markdown",
   "id": "e1ba57b0",
   "metadata": {},
   "source": [
    "# Euler 23"
   ]
  },
  {
   "cell_type": "code",
   "execution_count": 29,
   "id": "a987586f",
   "metadata": {},
   "outputs": [
    {
     "data": {
      "text/plain": [
       "isabundant (generic function with 1 method)"
      ]
     },
     "execution_count": 29,
     "metadata": {},
     "output_type": "execute_result"
    }
   ],
   "source": [
    "isabundant(n) = sum(i for i in 1:n-1 if n%i==0) > n"
   ]
  },
  {
   "cell_type": "code",
   "execution_count": 30,
   "id": "431d319b",
   "metadata": {},
   "outputs": [
    {
     "data": {
      "text/plain": [
       "\u001b[32m\u001b[1mTest Passed\u001b[22m\u001b[39m"
      ]
     },
     "execution_count": 30,
     "metadata": {},
     "output_type": "execute_result"
    }
   ],
   "source": [
    "using Test\n",
    "@test isabundant(12)"
   ]
  },
  {
   "cell_type": "code",
   "execution_count": 20,
   "id": "917ec54b",
   "metadata": {},
   "outputs": [
    {
     "data": {
      "text/plain": [
       "f (generic function with 1 method)"
      ]
     },
     "execution_count": 20,
     "metadata": {},
     "output_type": "execute_result"
    }
   ],
   "source": [
    "function f()\n",
    "    s = 0\n",
    "    abundant_nums = Set{Int}()\n",
    "    for n in 1:28123\n",
    "        isabundant(n) && push!(abundant_nums, n)\n",
    "        if !any((n-a in abundant_nums) for a in abundant_nums)\n",
    "            s += n\n",
    "        end\n",
    "    end\n",
    "    return s\n",
    "end"
   ]
  },
  {
   "cell_type": "code",
   "execution_count": 22,
   "id": "caff5627",
   "metadata": {},
   "outputs": [
    {
     "name": "stdout",
     "output_type": "stream",
     "text": [
      "  2.696832 seconds (22 allocations: 193.859 KiB)\n"
     ]
    },
    {
     "data": {
      "text/plain": [
       "4179871"
      ]
     },
     "execution_count": 22,
     "metadata": {},
     "output_type": "execute_result"
    }
   ],
   "source": [
    "@time f()"
   ]
  },
  {
   "cell_type": "markdown",
   "id": "f2f57398",
   "metadata": {},
   "source": [
    "# Euler 24"
   ]
  },
  {
   "cell_type": "code",
   "execution_count": 53,
   "id": "982aca55",
   "metadata": {},
   "outputs": [],
   "source": [
    "using Combinatorics"
   ]
  },
  {
   "cell_type": "code",
   "execution_count": 75,
   "id": "87116fc7",
   "metadata": {},
   "outputs": [
    {
     "data": {
      "text/plain": [
       "10-element Vector{Int64}:\n",
       " 2\n",
       " 7\n",
       " 8\n",
       " 3\n",
       " 9\n",
       " 1\n",
       " 5\n",
       " 4\n",
       " 6\n",
       " 0"
      ]
     },
     "execution_count": 75,
     "metadata": {},
     "output_type": "execute_result"
    }
   ],
   "source": [
    "nthperm(0:9, 1_000_000)"
   ]
  },
  {
   "cell_type": "code",
   "execution_count": 76,
   "id": "2f66cfff",
   "metadata": {},
   "outputs": [
    {
     "data": {
      "text/plain": [
       "\"2783915460\""
      ]
     },
     "execution_count": 76,
     "metadata": {},
     "output_type": "execute_result"
    }
   ],
   "source": [
    "join(ans)"
   ]
  },
  {
   "cell_type": "code",
   "execution_count": 77,
   "id": "7a227aa0",
   "metadata": {},
   "outputs": [
    {
     "name": "stdout",
     "output_type": "stream",
     "text": [
      "  178.636 ns (1 allocation: 160 bytes)\n"
     ]
    }
   ],
   "source": [
    "@btime nthperm(0:9, 1_000_000);"
   ]
  },
  {
   "cell_type": "markdown",
   "id": "4954a79d",
   "metadata": {},
   "source": [
    "# Euler 25"
   ]
  },
  {
   "cell_type": "code",
   "execution_count": 8,
   "id": "104002cd",
   "metadata": {},
   "outputs": [],
   "source": [
    "using IntegerSequences"
   ]
  },
  {
   "cell_type": "code",
   "execution_count": 77,
   "id": "8ac6138a",
   "metadata": {},
   "outputs": [
    {
     "data": {
      "text/plain": [
       "1001"
      ]
     },
     "execution_count": 77,
     "metadata": {},
     "output_type": "execute_result"
    }
   ],
   "source": [
    "BigInt(big\"1e1000\") |> ndigits"
   ]
  },
  {
   "cell_type": "code",
   "execution_count": 78,
   "id": "cfe28f70",
   "metadata": {},
   "outputs": [
    {
     "data": {
      "text/plain": [
       "g (generic function with 2 methods)"
      ]
     },
     "execution_count": 78,
     "metadata": {},
     "output_type": "execute_result"
    }
   ],
   "source": [
    "function g(n)\n",
    "    limit = BigInt(big\"1e1000\")\n",
    "    for (i,fib) in enumerate(IntegerSequences.FiboIterate(limit)) # F000045\n",
    "        if ndigits(fib) >= n\n",
    "            return i-1, fib\n",
    "        end\n",
    "    end\n",
    "    return -1\n",
    "end"
   ]
  },
  {
   "cell_type": "code",
   "execution_count": 79,
   "id": "bfc09ad3",
   "metadata": {},
   "outputs": [
    {
     "data": {
      "text/plain": [
       "\u001b[32m\u001b[1mTest Passed\u001b[22m\u001b[39m"
      ]
     },
     "execution_count": 79,
     "metadata": {},
     "output_type": "execute_result"
    }
   ],
   "source": [
    "@test g(3) == (12,144)"
   ]
  },
  {
   "cell_type": "code",
   "execution_count": 80,
   "id": "5fdfa175",
   "metadata": {},
   "outputs": [
    {
     "name": "stdout",
     "output_type": "stream",
     "text": [
      "  0.004134 seconds (46.76 k allocations: 1.188 MiB)\n"
     ]
    },
    {
     "data": {
      "text/plain": [
       "(4782, 1070066266382758936764980584457396885083683896632151665013235203375314520604694040621889147582489792657804694888177591957484336466672569959512996030461262748092482186144069433051234774442750273781753087579391666192149259186759553966422837148943113074699503439547001985432609723067290192870526447243726117715821825548491120525013201478612965931381792235559657452039506137551467837543229119602129934048260706175397706847068202895486902666185435124521900369480641357447470911707619766945691070098024393439617474103736912503231365532164773697023167755051595173518460579954919410967778373229665796581646513903488154256310184224190259846088000110186255550245493937113651657039447629584714548523425950428582425306083544435428212611008992863795048006894330309773217834864543113205765659868456288616808718693835297350643986297640660000723562917905207051164077614812491885830945940566688339109350944456576357666151619317753792891661581327159616877487983821820492520348473874384736771934512787029218636250627816)"
      ]
     },
     "execution_count": 80,
     "metadata": {},
     "output_type": "execute_result"
    }
   ],
   "source": [
    "@time g(1000)"
   ]
  },
  {
   "cell_type": "code",
   "execution_count": 81,
   "id": "bc681a92",
   "metadata": {},
   "outputs": [
    {
     "data": {
      "text/plain": [
       "4782"
      ]
     },
     "execution_count": 81,
     "metadata": {},
     "output_type": "execute_result"
    }
   ],
   "source": [
    "g(1000)[1]"
   ]
  },
  {
   "cell_type": "markdown",
   "id": "74cf8284",
   "metadata": {},
   "source": [
    "# Euler 26"
   ]
  },
  {
   "cell_type": "code",
   "execution_count": null,
   "id": "03f95c11",
   "metadata": {},
   "outputs": [],
   "source": [
    "# TODO"
   ]
  },
  {
   "cell_type": "markdown",
   "id": "1ada0f7c",
   "metadata": {},
   "source": [
    "# Euler 27"
   ]
  },
  {
   "cell_type": "code",
   "execution_count": 163,
   "id": "492e0684",
   "metadata": {},
   "outputs": [],
   "source": [
    "using Primes"
   ]
  },
  {
   "cell_type": "code",
   "execution_count": 146,
   "id": "084778a5",
   "metadata": {},
   "outputs": [
    {
     "data": {
      "text/plain": [
       "formula (generic function with 1 method)"
      ]
     },
     "execution_count": 146,
     "metadata": {},
     "output_type": "execute_result"
    }
   ],
   "source": [
    "formula(n,a,b) = n^2 + a*n + b"
   ]
  },
  {
   "cell_type": "code",
   "execution_count": 159,
   "id": "8134a466",
   "metadata": {},
   "outputs": [
    {
     "data": {
      "text/plain": [
       "count_consec_primes (generic function with 1 method)"
      ]
     },
     "execution_count": 159,
     "metadata": {},
     "output_type": "execute_result"
    }
   ],
   "source": [
    "function count_consec_primes(a,b)\n",
    "    n = 0\n",
    "    while isprime(formula(n,a,b))\n",
    "        n+=1\n",
    "    end\n",
    "    return n\n",
    "end"
   ]
  },
  {
   "cell_type": "code",
   "execution_count": 162,
   "id": "8329b4b1",
   "metadata": {},
   "outputs": [
    {
     "data": {
      "text/plain": [
       "\u001b[32m\u001b[1mTest Passed\u001b[22m\u001b[39m"
      ]
     },
     "execution_count": 162,
     "metadata": {},
     "output_type": "execute_result"
    }
   ],
   "source": [
    "@test all(isprime.(formula.(0:39,1,41)))\n",
    "@test all(isprime.(formula.(0:79,-79,1601)))\n",
    "\n",
    "@test count_consec_primes(1,41) == 40\n",
    "@test count_consec_primes(-79,1601) == 80"
   ]
  },
  {
   "cell_type": "code",
   "execution_count": 168,
   "id": "04039f95",
   "metadata": {},
   "outputs": [
    {
     "data": {
      "text/plain": [
       "naive (generic function with 2 methods)"
      ]
     },
     "execution_count": 168,
     "metadata": {},
     "output_type": "execute_result"
    }
   ],
   "source": [
    "function naive(param_range)\n",
    "    amax, bmax, nmax = 0, 0, 0\n",
    "    for a in param_range\n",
    "        for b in param_range\n",
    "            n = count_consec_primes(a,b)\n",
    "            if n > nmax\n",
    "                amax, bmax, nmax = a, b, n\n",
    "            end\n",
    "        end\n",
    "    end\n",
    "    return amax, bmax, nmax\n",
    "end"
   ]
  },
  {
   "cell_type": "code",
   "execution_count": 171,
   "id": "4d495443",
   "metadata": {},
   "outputs": [
    {
     "data": {
      "text/plain": [
       "\u001b[32m\u001b[1mTest Passed\u001b[22m\u001b[39m"
      ]
     },
     "execution_count": 171,
     "metadata": {},
     "output_type": "execute_result"
    }
   ],
   "source": [
    "@test naive(1:50) == (1,41,40)\n",
    "@test naive(-100:1700) == (-79,1601,80)"
   ]
  },
  {
   "cell_type": "code",
   "execution_count": 178,
   "id": "07b0d86d",
   "metadata": {},
   "outputs": [
    {
     "name": "stdout",
     "output_type": "stream",
     "text": [
      "  0.152284 seconds (81.91 k allocations: 1.250 MiB)\n"
     ]
    },
    {
     "data": {
      "text/plain": [
       "(-61, 971, 71)"
      ]
     },
     "execution_count": 178,
     "metadata": {},
     "output_type": "execute_result"
    }
   ],
   "source": [
    "@time a,b,n = naive(-999:999)"
   ]
  },
  {
   "cell_type": "code",
   "execution_count": 179,
   "id": "671c264f",
   "metadata": {},
   "outputs": [
    {
     "data": {
      "text/plain": [
       "-59231"
      ]
     },
     "execution_count": 179,
     "metadata": {},
     "output_type": "execute_result"
    }
   ],
   "source": [
    "a*b"
   ]
  },
  {
   "cell_type": "markdown",
   "id": "4d0e561f",
   "metadata": {},
   "source": [
    "# Euler 28"
   ]
  },
  {
   "cell_type": "code",
   "execution_count": 180,
   "id": "97cf5d88",
   "metadata": {},
   "outputs": [],
   "source": [
    "# TODO"
   ]
  },
  {
   "cell_type": "markdown",
   "id": "cdc2f3b5",
   "metadata": {},
   "source": [
    "# Euler 29"
   ]
  },
  {
   "cell_type": "code",
   "execution_count": 188,
   "id": "a264b2bd",
   "metadata": {},
   "outputs": [
    {
     "data": {
      "text/plain": [
       "f (generic function with 2 methods)"
      ]
     },
     "execution_count": 188,
     "metadata": {},
     "output_type": "execute_result"
    }
   ],
   "source": [
    "function f(N)\n",
    "    s = Set{BigInt}()\n",
    "    for a in big(2):big(N), b in 2:N\n",
    "        push!(s, a^b)\n",
    "    end\n",
    "    return length(s)\n",
    "end"
   ]
  },
  {
   "cell_type": "code",
   "execution_count": 190,
   "id": "928e8074",
   "metadata": {},
   "outputs": [
    {
     "data": {
      "text/plain": [
       "\u001b[32m\u001b[1mTest Passed\u001b[22m\u001b[39m"
      ]
     },
     "execution_count": 190,
     "metadata": {},
     "output_type": "execute_result"
    }
   ],
   "source": [
    "@test f(5) == 15"
   ]
  },
  {
   "cell_type": "code",
   "execution_count": 191,
   "id": "c25b1362",
   "metadata": {},
   "outputs": [
    {
     "data": {
      "text/plain": [
       "9183"
      ]
     },
     "execution_count": 191,
     "metadata": {},
     "output_type": "execute_result"
    }
   ],
   "source": [
    "f(100)"
   ]
  },
  {
   "cell_type": "markdown",
   "id": "8f8524ae",
   "metadata": {},
   "source": [
    "# Euler 30"
   ]
  },
  {
   "cell_type": "code",
   "execution_count": 196,
   "id": "4d5467a4",
   "metadata": {},
   "outputs": [
    {
     "data": {
      "text/plain": [
       "check (generic function with 1 method)"
      ]
     },
     "execution_count": 196,
     "metadata": {},
     "output_type": "execute_result"
    }
   ],
   "source": [
    "check(n; pow=5) = sum(d^pow for d in digits(n)) == n"
   ]
  },
  {
   "cell_type": "code",
   "execution_count": 198,
   "id": "0adce4d8",
   "metadata": {},
   "outputs": [
    {
     "data": {
      "text/plain": [
       "\u001b[32m\u001b[1mTest Passed\u001b[22m\u001b[39m"
      ]
     },
     "execution_count": 198,
     "metadata": {},
     "output_type": "execute_result"
    }
   ],
   "source": [
    "@test check(1634; pow=4)\n",
    "@test check(8208; pow=4)\n",
    "@test check(9474; pow=4)"
   ]
  },
  {
   "cell_type": "code",
   "execution_count": 229,
   "id": "5a8e6cde",
   "metadata": {},
   "outputs": [
    {
     "data": {
      "text/plain": [
       "7"
      ]
     },
     "execution_count": 229,
     "metadata": {},
     "output_type": "execute_result"
    }
   ],
   "source": [
    "upper_limit_ndigits() = findfirst(n -> ndigits(n*9^5) < n, 1:10)\n",
    "upper_limit_ndigits()"
   ]
  },
  {
   "cell_type": "code",
   "execution_count": 237,
   "id": "ab239711",
   "metadata": {},
   "outputs": [
    {
     "data": {
      "text/plain": [
       "f (generic function with 2 methods)"
      ]
     },
     "execution_count": 237,
     "metadata": {},
     "output_type": "execute_result"
    }
   ],
   "source": [
    "function f()\n",
    "    s = 0\n",
    "    for n in 2:10^upper_limit_ndigits()\n",
    "        if check(n)\n",
    "            s += n\n",
    "        end\n",
    "    end\n",
    "    return s\n",
    "end"
   ]
  },
  {
   "cell_type": "code",
   "execution_count": 238,
   "id": "628c8343",
   "metadata": {},
   "outputs": [
    {
     "name": "stdout",
     "output_type": "stream",
     "text": [
      "  1.549169 seconds (10.00 M allocations: 1.326 GiB, 15.93% gc time)\n"
     ]
    },
    {
     "data": {
      "text/plain": [
       "443839"
      ]
     },
     "execution_count": 238,
     "metadata": {},
     "output_type": "execute_result"
    }
   ],
   "source": [
    "@time f()"
   ]
  },
  {
   "cell_type": "markdown",
   "id": "470ca932",
   "metadata": {},
   "source": [
    "# Euler 31"
   ]
  },
  {
   "cell_type": "code",
   "execution_count": 1,
   "id": "b669ffe3",
   "metadata": {},
   "outputs": [],
   "source": [
    "const coins = [1,2,5,10,20,50,100,200];"
   ]
  },
  {
   "cell_type": "code",
   "execution_count": 4,
   "id": "02f3cac1",
   "metadata": {},
   "outputs": [
    {
     "data": {
      "text/plain": [
       "div_and_conq (generic function with 1 method)"
      ]
     },
     "execution_count": 4,
     "metadata": {},
     "output_type": "execute_result"
    }
   ],
   "source": [
    "function div_and_conq(total; smallest_coin=1) # smallest_coin to avoid overcounting symmetry partners\n",
    "    nways = total == 0 ? 1 : 0\n",
    "    for c in coins\n",
    "        if total >= c && c >= smallest_coin\n",
    "            nways += div_and_conq(total-c; smallest_coin=c)\n",
    "        end\n",
    "    end\n",
    "    return nways\n",
    "end"
   ]
  },
  {
   "cell_type": "code",
   "execution_count": 7,
   "id": "12f9f7bd",
   "metadata": {},
   "outputs": [
    {
     "name": "stdout",
     "output_type": "stream",
     "text": [
      "  0.038324 seconds\n"
     ]
    },
    {
     "data": {
      "text/plain": [
       "73682"
      ]
     },
     "execution_count": 7,
     "metadata": {},
     "output_type": "execute_result"
    }
   ],
   "source": [
    "@time div_and_conq(200)"
   ]
  },
  {
   "cell_type": "markdown",
   "id": "2a1a4170",
   "metadata": {},
   "source": [
    "# Euler 32"
   ]
  },
  {
   "cell_type": "code",
   "execution_count": 48,
   "id": "45167444",
   "metadata": {},
   "outputs": [],
   "source": [
    "using BenchmarkTools"
   ]
  },
  {
   "cell_type": "code",
   "execution_count": 49,
   "id": "d3783da5",
   "metadata": {},
   "outputs": [
    {
     "data": {
      "text/plain": [
       "ispandigital! (generic function with 1 method)"
      ]
     },
     "execution_count": 49,
     "metadata": {},
     "output_type": "execute_result"
    }
   ],
   "source": [
    "function ispandigital!(tmp, n::Integer)\n",
    "    d = sort!(digits!(tmp, n))\n",
    "    return d == 1:length(d)\n",
    "end"
   ]
  },
  {
   "cell_type": "code",
   "execution_count": 50,
   "id": "2494635e",
   "metadata": {},
   "outputs": [],
   "source": [
    "tmp = zeros(Int, 9);"
   ]
  },
  {
   "cell_type": "code",
   "execution_count": 51,
   "id": "15543901",
   "metadata": {},
   "outputs": [
    {
     "name": "stdout",
     "output_type": "stream",
     "text": [
      "  102.380 ns (0 allocations: 0 bytes)\n"
     ]
    }
   ],
   "source": [
    "@btime ispandigital!($tmp, 391867254);"
   ]
  },
  {
   "cell_type": "code",
   "execution_count": 99,
   "id": "4f28e96b",
   "metadata": {},
   "outputs": [
    {
     "data": {
      "text/plain": [
       "digits2integer (generic function with 1 method)"
      ]
     },
     "execution_count": 99,
     "metadata": {},
     "output_type": "execute_result"
    }
   ],
   "source": [
    "digits2integer(ds) = sum(((i, x),) -> x * 10^(i - 1), pairs(ds))"
   ]
  },
  {
   "cell_type": "code",
   "execution_count": 100,
   "id": "689921d7",
   "metadata": {},
   "outputs": [
    {
     "data": {
      "text/plain": [
       "123456"
      ]
     },
     "execution_count": 100,
     "metadata": {},
     "output_type": "execute_result"
    }
   ],
   "source": [
    "digits2integer(digits(123456))"
   ]
  },
  {
   "cell_type": "code",
   "execution_count": 103,
   "id": "47e9ae9b",
   "metadata": {},
   "outputs": [
    {
     "data": {
      "text/plain": [
       "f (generic function with 1 method)"
      ]
     },
     "execution_count": 103,
     "metadata": {},
     "output_type": "execute_result"
    }
   ],
   "source": [
    "function f()\n",
    "    memory = Set{Int}()\n",
    "    tmp = zeros(Int, 9)\n",
    "    for a in 1:9999\n",
    "        for b in 1:9999\n",
    "            c = a*b\n",
    "            ndigits(c) + ndigits(a) + ndigits(b) == 9 || continue\n",
    "            c in memory && continue\n",
    "            num = digits2integer(vcat(digits(c), digits(a), digits(b)))\n",
    "            if ispandigital!(tmp, num)\n",
    "                push!(memory, c)\n",
    "            end\n",
    "        end\n",
    "    end\n",
    "    return sum(memory)\n",
    "end"
   ]
  },
  {
   "cell_type": "code",
   "execution_count": 104,
   "id": "7d1d4e16",
   "metadata": {},
   "outputs": [
    {
     "name": "stdout",
     "output_type": "stream",
     "text": [
      "  1.967452 seconds (270.59 k allocations: 30.963 MiB, 0.25% gc time)\n"
     ]
    },
    {
     "data": {
      "text/plain": [
       "45228"
      ]
     },
     "execution_count": 104,
     "metadata": {},
     "output_type": "execute_result"
    }
   ],
   "source": [
    "@time f()"
   ]
  },
  {
   "cell_type": "markdown",
   "id": "46912f90",
   "metadata": {},
   "source": [
    "#### reducing allocations"
   ]
  },
  {
   "cell_type": "code",
   "execution_count": 130,
   "id": "13e1c3e7",
   "metadata": {},
   "outputs": [
    {
     "data": {
      "text/plain": [
       "combine_integers (generic function with 1 method)"
      ]
     },
     "execution_count": 130,
     "metadata": {},
     "output_type": "execute_result"
    }
   ],
   "source": [
    "function combine_integers(x, y)\n",
    "    if y != 0\n",
    "        a = floor(Int, log10(y))\n",
    "    else\n",
    "        a = -1\n",
    "    end\n",
    "\n",
    "    return x*10^(1+a)+y\n",
    "end"
   ]
  },
  {
   "cell_type": "code",
   "execution_count": 131,
   "id": "8968099c",
   "metadata": {},
   "outputs": [
    {
     "data": {
      "text/plain": [
       "g (generic function with 1 method)"
      ]
     },
     "execution_count": 131,
     "metadata": {},
     "output_type": "execute_result"
    }
   ],
   "source": [
    "function g()\n",
    "    memory = Set{Int}()\n",
    "    tmp = zeros(Int, 9)\n",
    "    for a in 1:9999\n",
    "        for b in 1:9999\n",
    "            c = a*b\n",
    "            ndigits(c) + ndigits(a) + ndigits(b) == 9 || continue\n",
    "            c in memory && continue\n",
    "            num = combine_integers(combine_integers(a,b), c)\n",
    "            if ispandigital!(tmp, num)\n",
    "                push!(memory, c)\n",
    "            end\n",
    "        end\n",
    "    end\n",
    "    return sum(memory)\n",
    "end"
   ]
  },
  {
   "cell_type": "code",
   "execution_count": 132,
   "id": "947105f7",
   "metadata": {},
   "outputs": [
    {
     "name": "stdout",
     "output_type": "stream",
     "text": [
      "  2.037876 seconds (347 allocations: 37.062 KiB)\n"
     ]
    },
    {
     "data": {
      "text/plain": [
       "45228"
      ]
     },
     "execution_count": 132,
     "metadata": {},
     "output_type": "execute_result"
    }
   ],
   "source": [
    "@time g()"
   ]
  },
  {
   "cell_type": "markdown",
   "id": "520ab5de",
   "metadata": {},
   "source": [
    "# Euler 33"
   ]
  },
  {
   "cell_type": "code",
   "execution_count": 122,
   "id": "34105571",
   "metadata": {},
   "outputs": [],
   "source": [
    "struct CuriousChecker\n",
    "    digits_nom::Vector{Int}\n",
    "    digits_denom::Vector{Int}\n",
    "    CuriousChecker() = new(zeros(2), zeros(2))\n",
    "end\n",
    "\n",
    "function (cc::CuriousChecker)(nom, denom)\n",
    "    dn = cc.digits_nom\n",
    "    dd = cc.digits_denom\n",
    "    digits!(dn, nom)\n",
    "    digits!(dd, denom)\n",
    "    r = nom//denom\n",
    "   \n",
    "    # only select non-trivial curious numbers\n",
    "    r == 1 && return false\n",
    "    (0 in dn && 0 in dd) && return false\n",
    "    \n",
    "    if dn[1] == dd[1] && dn[2]//dd[2] == r\n",
    "        return true\n",
    "    elseif dn[1] == dd[2] && dn[2]//dd[1] == r\n",
    "        return true\n",
    "    elseif dn[2] == dd[1] && dn[1]//dd[2] == r\n",
    "        return true\n",
    "    elseif dn[2] == dd[2] && dn[1]//dd[1] == r\n",
    "        return true\n",
    "    else\n",
    "        return false\n",
    "    end\n",
    "end"
   ]
  },
  {
   "cell_type": "code",
   "execution_count": 123,
   "id": "055a04da",
   "metadata": {},
   "outputs": [
    {
     "data": {
      "text/plain": [
       "\u001b[32m\u001b[1mTest Passed\u001b[22m\u001b[39m"
      ]
     },
     "execution_count": 123,
     "metadata": {},
     "output_type": "execute_result"
    }
   ],
   "source": [
    "using Test\n",
    "\n",
    "iscurious = CuriousChecker()\n",
    "@test iscurious(49, 98)\n",
    "@test !iscurious(12, 14)\n",
    "@test !iscurious(30, 50) # trivial => not curious\n",
    "@test !iscurious(11, 11) # trivial => not curious"
   ]
  },
  {
   "cell_type": "code",
   "execution_count": 124,
   "id": "fd3235d8",
   "metadata": {},
   "outputs": [
    {
     "name": "stdout",
     "output_type": "stream",
     "text": [
      "  62.999 ns (0 allocations: 0 bytes)\n"
     ]
    },
    {
     "data": {
      "text/plain": [
       "true"
      ]
     },
     "execution_count": 124,
     "metadata": {},
     "output_type": "execute_result"
    }
   ],
   "source": [
    "@btime iscurious(49, 98)"
   ]
  },
  {
   "cell_type": "code",
   "execution_count": 125,
   "id": "0b7584c6",
   "metadata": {},
   "outputs": [
    {
     "data": {
      "text/plain": [
       "solve (generic function with 1 method)"
      ]
     },
     "execution_count": 125,
     "metadata": {},
     "output_type": "execute_result"
    }
   ],
   "source": [
    "function solve()\n",
    "    r = 1//1\n",
    "    iscurious = CuriousChecker()\n",
    "    for denom in 10:99\n",
    "        for nom in 10:denom\n",
    "            if iscurious(nom, denom)\n",
    "                r *= nom//denom\n",
    "            end\n",
    "        end\n",
    "    end\n",
    "    return r.den\n",
    "end"
   ]
  },
  {
   "cell_type": "code",
   "execution_count": 127,
   "id": "78fb55a9",
   "metadata": {},
   "outputs": [
    {
     "name": "stdout",
     "output_type": "stream",
     "text": [
      "  217.174 μs (4 allocations: 384 bytes)\n"
     ]
    },
    {
     "data": {
      "text/plain": [
       "100"
      ]
     },
     "execution_count": 127,
     "metadata": {},
     "output_type": "execute_result"
    }
   ],
   "source": [
    "@btime solve()"
   ]
  },
  {
   "cell_type": "markdown",
   "id": "109b4277",
   "metadata": {},
   "source": [
    "# Euler 34"
   ]
  },
  {
   "cell_type": "code",
   "execution_count": null,
   "id": "1698f1c4",
   "metadata": {},
   "outputs": [],
   "source": []
  },
  {
   "cell_type": "markdown",
   "id": "f5cd4da7",
   "metadata": {},
   "source": [
    "......."
   ]
  },
  {
   "cell_type": "markdown",
   "id": "702e2ef7",
   "metadata": {},
   "source": [
    "# Euler 36"
   ]
  },
  {
   "cell_type": "code",
   "execution_count": 139,
   "id": "f4614ec4",
   "metadata": {},
   "outputs": [
    {
     "data": {
      "text/plain": [
       "ispalindrome (generic function with 1 method)"
      ]
     },
     "execution_count": 139,
     "metadata": {},
     "output_type": "execute_result"
    }
   ],
   "source": [
    "ispalindrome(n; base=10) = digits(n; base) == reverse(digits(n; base))"
   ]
  },
  {
   "cell_type": "code",
   "execution_count": 141,
   "id": "ff037657",
   "metadata": {},
   "outputs": [
    {
     "data": {
      "text/plain": [
       "true"
      ]
     },
     "execution_count": 141,
     "metadata": {},
     "output_type": "execute_result"
    }
   ],
   "source": [
    "ispalindrome(585; base=10)"
   ]
  },
  {
   "cell_type": "code",
   "execution_count": 142,
   "id": "9249a819",
   "metadata": {},
   "outputs": [
    {
     "data": {
      "text/plain": [
       "true"
      ]
     },
     "execution_count": 142,
     "metadata": {},
     "output_type": "execute_result"
    }
   ],
   "source": [
    "ispalindrome(585; base=2)"
   ]
  },
  {
   "cell_type": "code",
   "execution_count": 152,
   "id": "7c12ba39",
   "metadata": {},
   "outputs": [
    {
     "data": {
      "text/plain": [
       "false"
      ]
     },
     "execution_count": 152,
     "metadata": {},
     "output_type": "execute_result"
    }
   ],
   "source": [
    "ispalindrome(15; base=10)"
   ]
  },
  {
   "cell_type": "code",
   "execution_count": 153,
   "id": "eab243d7",
   "metadata": {},
   "outputs": [
    {
     "data": {
      "text/plain": [
       "true"
      ]
     },
     "execution_count": 153,
     "metadata": {},
     "output_type": "execute_result"
    }
   ],
   "source": [
    "ispalindrome(15; base=2)"
   ]
  },
  {
   "cell_type": "code",
   "execution_count": 146,
   "id": "97896923",
   "metadata": {},
   "outputs": [
    {
     "data": {
      "text/plain": [
       "872187"
      ]
     },
     "execution_count": 146,
     "metadata": {},
     "output_type": "execute_result"
    }
   ],
   "source": [
    "sum(n for n in 1:1_000_000 if ispalindrome(n; base=10) && ispalindrome(n; base=2))"
   ]
  }
 ],
 "metadata": {
  "@webio": {
   "lastCommId": null,
   "lastKernelId": null
  },
  "kernelspec": {
   "display_name": "Julia 1.6.0",
   "language": "julia",
   "name": "julia-1.6"
  },
  "language_info": {
   "file_extension": ".jl",
   "mimetype": "application/julia",
   "name": "julia",
   "version": "1.6.0"
  }
 },
 "nbformat": 4,
 "nbformat_minor": 5
}
